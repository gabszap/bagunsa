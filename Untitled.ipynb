{
 "cells": [
  {
   "cell_type": "code",
   "execution_count": null,
   "id": "df9a8d07-8456-4e17-aff5-1f7d88655fb6",
   "metadata": {},
   "outputs": [],
   "source": [
    "!python3 -m venv ~/env_jupyter_novo\n",
    "!source ~/env_jupyter_novo/bin/activate \n",
    "!pip install ipykernel\n",
    "!python3 -m ipykernel install --user --name=env_jupyter_novo --display-name=\"Python (env novo)\"\n",
    "!pip install pyrfc6266"
   ]
  },
  {
   "cell_type": "code",
   "execution_count": 18,
   "id": "f73d262b-3b34-4c64-8e4f-f3fcb830c9ea",
   "metadata": {},
   "outputs": [
    {
     "name": "stdout",
     "output_type": "stream",
     "text": [
      "✅ Ambiente CUDA configurado e waifuc instalado com sucesso!\n",
      "📊 ONNX Runtime: 1.21.0\n",
      "📊 Provedores disponíveis: ['TensorrtExecutionProvider', 'CUDAExecutionProvider', 'CPUExecutionProvider']\n",
      "📊 Provedor em uso: GPU\n",
      "TensorRT configurado como provedor principal!\n",
      "\n",
      "💡 DICA: Use o TensorRT para acelerar ainda mais o processamento!\n"
     ]
    }
   ],
   "source": [
    "import os\n",
    "import subprocess\n",
    "import ctypes\n",
    "from IPython.display import clear_output\n",
    "\n",
    "# Carregar bibliotecas CUDA\n",
    "def setup_cuda_env():\n",
    "    # Configurar LD_LIBRARY_PATH\n",
    "    cuda_paths = [\n",
    "        '/usr/local/cuda/targets/x86_64-linux/lib',\n",
    "        '/usr/local/cuda/lib64'\n",
    "    ]\n",
    "    \n",
    "    # Adicionar caminhos ao LD_LIBRARY_PATH\n",
    "    for path in cuda_paths:\n",
    "        if path not in os.environ.get('LD_LIBRARY_PATH', ''):\n",
    "            os.environ['LD_LIBRARY_PATH'] = f\"{path}:{os.environ.get('LD_LIBRARY_PATH', '')}\"\n",
    "    \n",
    "    # Carregar bibliotecas CUDA\n",
    "    cuda_libs = [\n",
    "        \"/usr/local/cuda/targets/x86_64-linux/lib/libcurand.so.10\",\n",
    "        \"/usr/local/cuda/targets/x86_64-linux/lib/libcufft.so.11\",\n",
    "        \"/usr/local/cuda/targets/x86_64-linux/lib/libcudart.so.12\",\n",
    "        \"/usr/local/cuda/targets/x86_64-linux/lib/libnvrtc.so.12\"\n",
    "    ]\n",
    "    \n",
    "    for lib in cuda_libs:\n",
    "        try:\n",
    "            ctypes.CDLL(lib)\n",
    "        except Exception as e:\n",
    "            print(f\"Aviso ao carregar {lib}: {e}\")\n",
    "    \n",
    "    # Configurar modo ONNX para GPU\n",
    "    os.environ['ONNX_MODE'] = 'gpu'\n",
    "\n",
    "# Instalar pacotes necessários\n",
    "def install_packages():\n",
    "    packages = [\n",
    "        \"pyrfc6266\",\n",
    "        \"onnxruntime-gpu\",\n",
    "        \"git+https://github.com/deepghs/waifuc.git@main#egg=waifuc[gpu]\",\n",
    "        #\"--upgrade --force-reinstall huggingface-hub\"\n",
    "    ]\n",
    "    \n",
    "    for pkg in packages:\n",
    "        subprocess.run([\"pip\", \"install\", pkg], check=True)\n",
    "    \n",
    "    # Instalar bibliotecas CUDA\n",
    "    subprocess.run(\"apt-get update\", shell=True, check=True)\n",
    "\n",
    "# Configurar TensorRT\n",
    "def configure_tensorrt():\n",
    "    import onnxruntime as ort\n",
    "    \n",
    "    if 'TensorrtExecutionProvider' in ort.get_available_providers():\n",
    "        os.environ['ORT_TENSORRT_FP16_ENABLE'] = '1'  # Habilitar precisão FP16\n",
    "        os.environ['ORT_TENSORRT_MAX_PARTITION_ITERATIONS'] = '1000'\n",
    "        os.environ['ORT_TENSORRT_MIN_SUBGRAPH_SIZE'] = '1'\n",
    "        \n",
    "        # Configurar ordem dos provedores\n",
    "        providers = [\n",
    "            'TensorrtExecutionProvider',\n",
    "            'CUDAExecutionProvider',\n",
    "            'CPUExecutionProvider'\n",
    "        ]\n",
    "        \n",
    "        os.environ['ORT_PROVIDERS'] = ','.join(providers)\n",
    "        print(\"TensorRT configurado como provedor principal!\")\n",
    "        return True\n",
    "    else:\n",
    "        print(\"TensorRT não está disponível no sistema.\")\n",
    "        return False\n",
    "\n",
    "# Executar tudo\n",
    "print(\"Configurando ambiente CUDA e instalando waifuc...\")\n",
    "setup_cuda_env()\n",
    "install_packages()\n",
    "\n",
    "# Limpar saída e mostrar resultados\n",
    "clear_output(wait=True)\n",
    "print(\"✅ Ambiente CUDA configurado e waifuc instalado com sucesso!\")\n",
    "\n",
    "# Verificar status do ONNX Runtime\n",
    "import onnxruntime as ort\n",
    "print(f\"📊 ONNX Runtime: {ort.__version__}\")\n",
    "print(f\"📊 Provedores disponíveis: {ort.get_available_providers()}\")\n",
    "print(f\"📊 Provedor em uso: {ort.get_device()}\")\n",
    "\n",
    "# Configurar TensorRT, se disponível\n",
    "tensorrt_available = configure_tensorrt()\n",
    "if tensorrt_available:\n",
    "    print(\"\\n💡 DICA: Use o TensorRT para acelerar ainda mais o processamento!\")"
   ]
  },
  {
   "cell_type": "code",
   "execution_count": null,
   "id": "0fd89f8f-d981-4137-b648-df9b00f881ae",
   "metadata": {},
   "outputs": [
    {
     "name": "stdout",
     "output_type": "stream",
     "text": [
      "TensorRT configurado com sucesso!\n",
      "waifuc já está instalado, reinstalando...\n",
      "waifuc reinstalado com sucesso\n"
     ]
    },
    {
     "data": {
      "application/vnd.jupyter.widget-view+json": {
       "model_id": "e585951a70b4487b86e996736357afc5",
       "version_major": 2,
       "version_minor": 0
      },
      "text/plain": [
       "TextualInversionExporter('/workspace/datasets/fugue'): 0it [00:00, ?it/s]"
      ]
     },
     "metadata": {},
     "output_type": "display_data"
    },
    {
     "data": {
      "application/vnd.jupyter.widget-view+json": {
       "model_id": "70b0eaa636d34704afebf57366e7d4fe",
       "version_major": 2,
       "version_minor": 0
      },
      "text/plain": [
       "FirstNSelectAction(400):   0%|          | 0/400 [00:00<?, ?it/s]"
      ]
     },
     "metadata": {},
     "output_type": "display_data"
    },
    {
     "data": {
      "application/vnd.jupyter.widget-view+json": {
       "model_id": "ca46088437b04997a09d0570b66fae0e",
       "version_major": 2,
       "version_minor": 0
      },
      "text/plain": [
       "DanbooruSource(['fugue_(honkai:_star_rail)', 'solo']): 0it [00:00, ?it/s]"
      ]
     },
     "metadata": {},
     "output_type": "display_data"
    },
    {
     "data": {
      "application/vnd.jupyter.widget-view+json": {
       "model_id": "5af041f76eac428fa33bc3d91a624b20",
       "version_major": 2,
       "version_minor": 0
      },
      "text/plain": [
       "danbooru_9027483.jpg:   0%|          | 0.00/172k [00:00<?, ?B/s]"
      ]
     },
     "metadata": {},
     "output_type": "display_data"
    },
    {
     "data": {
      "application/vnd.jupyter.widget-view+json": {
       "model_id": "bcc95e38027d4879bf4098f73f6ed364",
       "version_major": 2,
       "version_minor": 0
      },
      "text/plain": [
       "danbooru_9011548.jpg:   0%|          | 0.00/451k [00:00<?, ?B/s]"
      ]
     },
     "metadata": {},
     "output_type": "display_data"
    },
    {
     "data": {
      "application/vnd.jupyter.widget-view+json": {
       "model_id": "1fee096ef80940acb72368aceb1cc844",
       "version_major": 2,
       "version_minor": 0
      },
      "text/plain": [
       "danbooru_9009775.jpg:   0%|          | 0.00/168k [00:00<?, ?B/s]"
      ]
     },
     "metadata": {},
     "output_type": "display_data"
    },
    {
     "data": {
      "application/vnd.jupyter.widget-view+json": {
       "model_id": "17a7cdce98714a459a1dea3e94ebe901",
       "version_major": 2,
       "version_minor": 0
      },
      "text/plain": [
       "danbooru_8997783.jpg:   0%|          | 0.00/213k [00:00<?, ?B/s]"
      ]
     },
     "metadata": {},
     "output_type": "display_data"
    },
    {
     "data": {
      "application/vnd.jupyter.widget-view+json": {
       "model_id": "8013e847f89c4563b4990c9a516e655f",
       "version_major": 2,
       "version_minor": 0
      },
      "text/plain": [
       "danbooru_8967770.jpg:   0%|          | 0.00/139k [00:00<?, ?B/s]"
      ]
     },
     "metadata": {},
     "output_type": "display_data"
    },
    {
     "data": {
      "application/vnd.jupyter.widget-view+json": {
       "model_id": "303d95717f8b44559b0f1f573d59637a",
       "version_major": 2,
       "version_minor": 0
      },
      "text/plain": [
       "danbooru_8937284.jpg:   0%|          | 0.00/121k [00:00<?, ?B/s]"
      ]
     },
     "metadata": {},
     "output_type": "display_data"
    },
    {
     "data": {
      "application/vnd.jupyter.widget-view+json": {
       "model_id": "41b5e6b2351047ef804c22f9375821e8",
       "version_major": 2,
       "version_minor": 0
      },
      "text/plain": [
       "danbooru_8933168.jpg:   0%|          | 0.00/104k [00:00<?, ?B/s]"
      ]
     },
     "metadata": {},
     "output_type": "display_data"
    },
    {
     "data": {
      "application/vnd.jupyter.widget-view+json": {
       "model_id": "f82448ac79df41a783924b73035e6ceb",
       "version_major": 2,
       "version_minor": 0
      },
      "text/plain": [
       "danbooru_8927917.jpg:   0%|          | 0.00/130k [00:00<?, ?B/s]"
      ]
     },
     "metadata": {},
     "output_type": "display_data"
    },
    {
     "data": {
      "application/vnd.jupyter.widget-view+json": {
       "model_id": "8cdb826e20644347849b4e28cb1f541c",
       "version_major": 2,
       "version_minor": 0
      },
      "text/plain": [
       "danbooru_8926146.jpg:   0%|          | 0.00/156k [00:00<?, ?B/s]"
      ]
     },
     "metadata": {},
     "output_type": "display_data"
    },
    {
     "data": {
      "application/vnd.jupyter.widget-view+json": {
       "model_id": "81d3f7fe82a74fe78026a1096afadba8",
       "version_major": 2,
       "version_minor": 0
      },
      "text/plain": [
       "danbooru_8925153.jpg:   0%|          | 0.00/156k [00:00<?, ?B/s]"
      ]
     },
     "metadata": {},
     "output_type": "display_data"
    },
    {
     "data": {
      "application/vnd.jupyter.widget-view+json": {
       "model_id": "ff8b6cf6a66044a88f5b2d3dc0e07f85",
       "version_major": 2,
       "version_minor": 0
      },
      "text/plain": [
       "danbooru_8924644.jpg:   0%|          | 0.00/140k [00:00<?, ?B/s]"
      ]
     },
     "metadata": {},
     "output_type": "display_data"
    },
    {
     "data": {
      "application/vnd.jupyter.widget-view+json": {
       "model_id": "f6131bfa3041422daef572dcef30a43e",
       "version_major": 2,
       "version_minor": 0
      },
      "text/plain": [
       "danbooru_8911231.jpg:   0%|          | 0.00/1.11M [00:00<?, ?B/s]"
      ]
     },
     "metadata": {},
     "output_type": "display_data"
    },
    {
     "data": {
      "application/vnd.jupyter.widget-view+json": {
       "model_id": "869f04f8168f49029e1a0fa7ff4f748c",
       "version_major": 2,
       "version_minor": 0
      },
      "text/plain": [
       "danbooru_8906864.jpg:   0%|          | 0.00/8.26M [00:00<?, ?B/s]"
      ]
     },
     "metadata": {},
     "output_type": "display_data"
    },
    {
     "data": {
      "application/vnd.jupyter.widget-view+json": {
       "model_id": "e83d8b90a393417b954125d6bf87f5bb",
       "version_major": 2,
       "version_minor": 0
      },
      "text/plain": [
       "danbooru_8902102.jpg:   0%|          | 0.00/137k [00:00<?, ?B/s]"
      ]
     },
     "metadata": {},
     "output_type": "display_data"
    },
    {
     "data": {
      "application/vnd.jupyter.widget-view+json": {
       "model_id": "3ce4cceed20042fe9335f76146e6d720",
       "version_major": 2,
       "version_minor": 0
      },
      "text/plain": [
       "danbooru_8897582.jpg:   0%|          | 0.00/134k [00:00<?, ?B/s]"
      ]
     },
     "metadata": {},
     "output_type": "display_data"
    },
    {
     "data": {
      "application/vnd.jupyter.widget-view+json": {
       "model_id": "c0a847ee4b47450d88af30eaa8347e54",
       "version_major": 2,
       "version_minor": 0
      },
      "text/plain": [
       "danbooru_8897581.jpg:   0%|          | 0.00/137k [00:00<?, ?B/s]"
      ]
     },
     "metadata": {},
     "output_type": "display_data"
    },
    {
     "data": {
      "application/vnd.jupyter.widget-view+json": {
       "model_id": "124382b4724249e9a06a3772e940df01",
       "version_major": 2,
       "version_minor": 0
      },
      "text/plain": [
       "danbooru_8896624.jpg:   0%|          | 0.00/163k [00:00<?, ?B/s]"
      ]
     },
     "metadata": {},
     "output_type": "display_data"
    },
    {
     "data": {
      "application/vnd.jupyter.widget-view+json": {
       "model_id": "857b98584a0a460e813ed367ba66ec5a",
       "version_major": 2,
       "version_minor": 0
      },
      "text/plain": [
       "danbooru_8889399.jpg:   0%|          | 0.00/1.80M [00:00<?, ?B/s]"
      ]
     },
     "metadata": {},
     "output_type": "display_data"
    },
    {
     "data": {
      "application/vnd.jupyter.widget-view+json": {
       "model_id": "d96e8d787fe848d29263f68bf8f8f244",
       "version_major": 2,
       "version_minor": 0
      },
      "text/plain": [
       "Extract features:   0%|          | 0/15 [00:00<?, ?it/s]"
      ]
     },
     "metadata": {},
     "output_type": "display_data"
    },
    {
     "data": {
      "application/vnd.jupyter.widget-view+json": {
       "model_id": "61008efcc3a44998921825fba800d4a7",
       "version_major": 2,
       "version_minor": 0
      },
      "text/plain": [
       "danbooru_8874743.jpg:   0%|          | 0.00/91.0k [00:00<?, ?B/s]"
      ]
     },
     "metadata": {},
     "output_type": "display_data"
    },
    {
     "data": {
      "application/vnd.jupyter.widget-view+json": {
       "model_id": "04e0f7765d624acdae61470b70ada449",
       "version_major": 2,
       "version_minor": 0
      },
      "text/plain": [
       "danbooru_8871195.png:   0%|          | 0.00/861k [00:00<?, ?B/s]"
      ]
     },
     "metadata": {},
     "output_type": "display_data"
    },
    {
     "data": {
      "application/vnd.jupyter.widget-view+json": {
       "model_id": "52819d709be24c19b01fc5ddb3afe2fc",
       "version_major": 2,
       "version_minor": 0
      },
      "text/plain": [
       "danbooru_8871158.jpg:   0%|          | 0.00/134k [00:00<?, ?B/s]"
      ]
     },
     "metadata": {},
     "output_type": "display_data"
    },
    {
     "data": {
      "application/vnd.jupyter.widget-view+json": {
       "model_id": "986334e348dc493e97fc517358bff0fa",
       "version_major": 2,
       "version_minor": 0
      },
      "text/plain": [
       "danbooru_8862794.jpg:   0%|          | 0.00/152k [00:00<?, ?B/s]"
      ]
     },
     "metadata": {},
     "output_type": "display_data"
    },
    {
     "data": {
      "application/vnd.jupyter.widget-view+json": {
       "model_id": "0eae5b645b5f4b5ba9b6c2a67ef71125",
       "version_major": 2,
       "version_minor": 0
      },
      "text/plain": [
       "danbooru_8857371.jpg:   0%|          | 0.00/2.64M [00:00<?, ?B/s]"
      ]
     },
     "metadata": {},
     "output_type": "display_data"
    },
    {
     "data": {
      "application/vnd.jupyter.widget-view+json": {
       "model_id": "360151da556d49018be0a73d57c2e412",
       "version_major": 2,
       "version_minor": 0
      },
      "text/plain": [
       "danbooru_8855502.png:   0%|          | 0.00/6.06M [00:00<?, ?B/s]"
      ]
     },
     "metadata": {},
     "output_type": "display_data"
    },
    {
     "data": {
      "application/vnd.jupyter.widget-view+json": {
       "model_id": "2b819b9444b94adbb9393207512fbf9c",
       "version_major": 2,
       "version_minor": 0
      },
      "text/plain": [
       "danbooru_8848557.jpg:   0%|          | 0.00/111k [00:00<?, ?B/s]"
      ]
     },
     "metadata": {},
     "output_type": "display_data"
    },
    {
     "data": {
      "application/vnd.jupyter.widget-view+json": {
       "model_id": "1a40a669610d4171a5545dc37d81d868",
       "version_major": 2,
       "version_minor": 0
      },
      "text/plain": [
       "danbooru_8828489.jpg:   0%|          | 0.00/107k [00:00<?, ?B/s]"
      ]
     },
     "metadata": {},
     "output_type": "display_data"
    },
    {
     "data": {
      "application/vnd.jupyter.widget-view+json": {
       "model_id": "7f6a9de98be54716a8b386f9d0917151",
       "version_major": 2,
       "version_minor": 0
      },
      "text/plain": [
       "danbooru_8827427.jpg:   0%|          | 0.00/200k [00:00<?, ?B/s]"
      ]
     },
     "metadata": {},
     "output_type": "display_data"
    },
    {
     "data": {
      "application/vnd.jupyter.widget-view+json": {
       "model_id": "3de1e8ee34504a1b963d34b819a6f49a",
       "version_major": 2,
       "version_minor": 0
      },
      "text/plain": [
       "danbooru_8814251.jpg:   0%|          | 0.00/149k [00:00<?, ?B/s]"
      ]
     },
     "metadata": {},
     "output_type": "display_data"
    },
    {
     "data": {
      "application/vnd.jupyter.widget-view+json": {
       "model_id": "7974b7b1d62e49308dd72d7f8a266494",
       "version_major": 2,
       "version_minor": 0
      },
      "text/plain": [
       "danbooru_8813163.jpg:   0%|          | 0.00/9.26M [00:00<?, ?B/s]"
      ]
     },
     "metadata": {},
     "output_type": "display_data"
    },
    {
     "data": {
      "application/vnd.jupyter.widget-view+json": {
       "model_id": "46c08229c20f49d3be560fd674def29f",
       "version_major": 2,
       "version_minor": 0
      },
      "text/plain": [
       "danbooru_8803931.jpg:   0%|          | 0.00/125k [00:00<?, ?B/s]"
      ]
     },
     "metadata": {},
     "output_type": "display_data"
    },
    {
     "data": {
      "application/vnd.jupyter.widget-view+json": {
       "model_id": "a6c6aafddfe045519bbd445d5f125739",
       "version_major": 2,
       "version_minor": 0
      },
      "text/plain": [
       "danbooru_8801711.jpg:   0%|          | 0.00/2.15M [00:00<?, ?B/s]"
      ]
     },
     "metadata": {},
     "output_type": "display_data"
    },
    {
     "data": {
      "application/vnd.jupyter.widget-view+json": {
       "model_id": "a65db8a684ad46bf9aa0d6a244699f59",
       "version_major": 2,
       "version_minor": 0
      },
      "text/plain": [
       "danbooru_8794370.jpg:   0%|          | 0.00/144k [00:00<?, ?B/s]"
      ]
     },
     "metadata": {},
     "output_type": "display_data"
    },
    {
     "data": {
      "application/vnd.jupyter.widget-view+json": {
       "model_id": "7858df98165d4a38a7f374c00c87333b",
       "version_major": 2,
       "version_minor": 0
      },
      "text/plain": [
       "danbooru_8783466.jpg:   0%|          | 0.00/142k [00:00<?, ?B/s]"
      ]
     },
     "metadata": {},
     "output_type": "display_data"
    },
    {
     "data": {
      "application/vnd.jupyter.widget-view+json": {
       "model_id": "1af8db5395cf4617b2e07912a146570a",
       "version_major": 2,
       "version_minor": 0
      },
      "text/plain": [
       "danbooru_8782479.jpg:   0%|          | 0.00/2.06M [00:00<?, ?B/s]"
      ]
     },
     "metadata": {},
     "output_type": "display_data"
    },
    {
     "data": {
      "application/vnd.jupyter.widget-view+json": {
       "model_id": "5bdd9e7a42994be4a3510c488d2c2fb3",
       "version_major": 2,
       "version_minor": 0
      },
      "text/plain": [
       "danbooru_8780494.jpg:   0%|          | 0.00/211k [00:00<?, ?B/s]"
      ]
     },
     "metadata": {},
     "output_type": "display_data"
    },
    {
     "data": {
      "application/vnd.jupyter.widget-view+json": {
       "model_id": "41e79fe9f0f7407d91c2243b3719de78",
       "version_major": 2,
       "version_minor": 0
      },
      "text/plain": [
       "danbooru_8768072.jpg:   0%|          | 0.00/193k [00:00<?, ?B/s]"
      ]
     },
     "metadata": {},
     "output_type": "display_data"
    },
    {
     "data": {
      "application/vnd.jupyter.widget-view+json": {
       "model_id": "a1ab9fb177014ba88f700e025d99760e",
       "version_major": 2,
       "version_minor": 0
      },
      "text/plain": [
       "danbooru_8765822.jpg:   0%|          | 0.00/111k [00:00<?, ?B/s]"
      ]
     },
     "metadata": {},
     "output_type": "display_data"
    },
    {
     "data": {
      "application/vnd.jupyter.widget-view+json": {
       "model_id": "781f43ff935d4250bb66292994cc1b3b",
       "version_major": 2,
       "version_minor": 0
      },
      "text/plain": [
       "danbooru_8760587.jpg:   0%|          | 0.00/4.40M [00:00<?, ?B/s]"
      ]
     },
     "metadata": {},
     "output_type": "display_data"
    },
    {
     "data": {
      "application/vnd.jupyter.widget-view+json": {
       "model_id": "ec32db84695e415eb69eb24133925644",
       "version_major": 2,
       "version_minor": 0
      },
      "text/plain": [
       "danbooru_8760585.jpg:   0%|          | 0.00/175k [00:00<?, ?B/s]"
      ]
     },
     "metadata": {},
     "output_type": "display_data"
    },
    {
     "data": {
      "application/vnd.jupyter.widget-view+json": {
       "model_id": "3060a82c35174059ae09be007eca99e9",
       "version_major": 2,
       "version_minor": 0
      },
      "text/plain": [
       "danbooru_8760015.jpg:   0%|          | 0.00/281k [00:00<?, ?B/s]"
      ]
     },
     "metadata": {},
     "output_type": "display_data"
    },
    {
     "data": {
      "application/vnd.jupyter.widget-view+json": {
       "model_id": "04032eee8ad54d8cb3a49b453cbc00e2",
       "version_major": 2,
       "version_minor": 0
      },
      "text/plain": [
       "danbooru_8757364.jpg:   0%|          | 0.00/103k [00:00<?, ?B/s]"
      ]
     },
     "metadata": {},
     "output_type": "display_data"
    },
    {
     "data": {
      "application/vnd.jupyter.widget-view+json": {
       "model_id": "3e0014b636fa44d2bb0d779c4e672d7d",
       "version_major": 2,
       "version_minor": 0
      },
      "text/plain": [
       "danbooru_8755693.jpg:   0%|          | 0.00/165k [00:00<?, ?B/s]"
      ]
     },
     "metadata": {},
     "output_type": "display_data"
    },
    {
     "data": {
      "application/vnd.jupyter.widget-view+json": {
       "model_id": "dea9f19878974b82af1436573a136400",
       "version_major": 2,
       "version_minor": 0
      },
      "text/plain": [
       "danbooru_8755086.jpg:   0%|          | 0.00/113k [00:00<?, ?B/s]"
      ]
     },
     "metadata": {},
     "output_type": "display_data"
    },
    {
     "data": {
      "application/vnd.jupyter.widget-view+json": {
       "model_id": "aca24bb3637f4612bce8272eb46b4b90",
       "version_major": 2,
       "version_minor": 0
      },
      "text/plain": [
       "danbooru_8753755.jpg:   0%|          | 0.00/3.28M [00:00<?, ?B/s]"
      ]
     },
     "metadata": {},
     "output_type": "display_data"
    },
    {
     "data": {
      "application/vnd.jupyter.widget-view+json": {
       "model_id": "d943189f5f054d8b81bc39a2a577dad1",
       "version_major": 2,
       "version_minor": 0
      },
      "text/plain": [
       "danbooru_8749586.jpg:   0%|          | 0.00/111k [00:00<?, ?B/s]"
      ]
     },
     "metadata": {},
     "output_type": "display_data"
    },
    {
     "data": {
      "application/vnd.jupyter.widget-view+json": {
       "model_id": "9f700e3612da4130a31ea333343d6433",
       "version_major": 2,
       "version_minor": 0
      },
      "text/plain": [
       "danbooru_8748862.jpg:   0%|          | 0.00/209k [00:00<?, ?B/s]"
      ]
     },
     "metadata": {},
     "output_type": "display_data"
    },
    {
     "data": {
      "application/vnd.jupyter.widget-view+json": {
       "model_id": "99ab2a80158f46eba63085f860a29b1a",
       "version_major": 2,
       "version_minor": 0
      },
      "text/plain": [
       "danbooru_8746530.jpg:   0%|          | 0.00/172k [00:00<?, ?B/s]"
      ]
     },
     "metadata": {},
     "output_type": "display_data"
    },
    {
     "data": {
      "application/vnd.jupyter.widget-view+json": {
       "model_id": "2e9ff9dea2f54a6e871d76e23f35f1ab",
       "version_major": 2,
       "version_minor": 0
      },
      "text/plain": [
       "danbooru_8746394.jpg:   0%|          | 0.00/155k [00:00<?, ?B/s]"
      ]
     },
     "metadata": {},
     "output_type": "display_data"
    },
    {
     "data": {
      "application/vnd.jupyter.widget-view+json": {
       "model_id": "5f65ce707b0040c2890d7f48583d9a3c",
       "version_major": 2,
       "version_minor": 0
      },
      "text/plain": [
       "danbooru_8746393.jpg:   0%|          | 0.00/152k [00:00<?, ?B/s]"
      ]
     },
     "metadata": {},
     "output_type": "display_data"
    },
    {
     "data": {
      "application/vnd.jupyter.widget-view+json": {
       "model_id": "37f5d776e2ca45608e7fca584d640a8c",
       "version_major": 2,
       "version_minor": 0
      },
      "text/plain": [
       "danbooru_8744551.jpg:   0%|          | 0.00/171k [00:00<?, ?B/s]"
      ]
     },
     "metadata": {},
     "output_type": "display_data"
    },
    {
     "data": {
      "application/vnd.jupyter.widget-view+json": {
       "model_id": "e72dfc54084e426c90c5a40ebaf897b9",
       "version_major": 2,
       "version_minor": 0
      },
      "text/plain": [
       "danbooru_8740377.png:   0%|          | 0.00/2.17M [00:00<?, ?B/s]"
      ]
     },
     "metadata": {},
     "output_type": "display_data"
    },
    {
     "data": {
      "application/vnd.jupyter.widget-view+json": {
       "model_id": "e6953a472a4d4e92aeb3dccb1759422a",
       "version_major": 2,
       "version_minor": 0
      },
      "text/plain": [
       "danbooru_8726724.jpg:   0%|          | 0.00/1.27M [00:00<?, ?B/s]"
      ]
     },
     "metadata": {},
     "output_type": "display_data"
    },
    {
     "data": {
      "application/vnd.jupyter.widget-view+json": {
       "model_id": "9fe268a672b94d1eae22a2070405ecab",
       "version_major": 2,
       "version_minor": 0
      },
      "text/plain": [
       "danbooru_8726454.jpg:   0%|          | 0.00/130k [00:00<?, ?B/s]"
      ]
     },
     "metadata": {},
     "output_type": "display_data"
    },
    {
     "data": {
      "application/vnd.jupyter.widget-view+json": {
       "model_id": "5d70204b2ac5434ba8e82cdb510cc45e",
       "version_major": 2,
       "version_minor": 0
      },
      "text/plain": [
       "danbooru_8726447.jpg:   0%|          | 0.00/131k [00:00<?, ?B/s]"
      ]
     },
     "metadata": {},
     "output_type": "display_data"
    },
    {
     "data": {
      "application/vnd.jupyter.widget-view+json": {
       "model_id": "f778b98bdfe347c98489b9ca7c95c390",
       "version_major": 2,
       "version_minor": 0
      },
      "text/plain": [
       "danbooru_8726095.jpg:   0%|          | 0.00/170k [00:00<?, ?B/s]"
      ]
     },
     "metadata": {},
     "output_type": "display_data"
    },
    {
     "data": {
      "application/vnd.jupyter.widget-view+json": {
       "model_id": "0fd3d310ba894d80a459d5f58b89da04",
       "version_major": 2,
       "version_minor": 0
      },
      "text/plain": [
       "danbooru_8725121.jpg:   0%|          | 0.00/170k [00:00<?, ?B/s]"
      ]
     },
     "metadata": {},
     "output_type": "display_data"
    },
    {
     "data": {
      "application/vnd.jupyter.widget-view+json": {
       "model_id": "6ff13a8476ee4bdabf3fb3b321f8b7e7",
       "version_major": 2,
       "version_minor": 0
      },
      "text/plain": [
       "danbooru_8724003.jpg:   0%|          | 0.00/1.16M [00:00<?, ?B/s]"
      ]
     },
     "metadata": {},
     "output_type": "display_data"
    },
    {
     "data": {
      "application/vnd.jupyter.widget-view+json": {
       "model_id": "284347bf3bfe448eb3e1bda8d2ac4aa2",
       "version_major": 2,
       "version_minor": 0
      },
      "text/plain": [
       "danbooru_8712166.jpg:   0%|          | 0.00/518k [00:00<?, ?B/s]"
      ]
     },
     "metadata": {},
     "output_type": "display_data"
    },
    {
     "data": {
      "application/vnd.jupyter.widget-view+json": {
       "model_id": "c58d1076e8dd48708081c784fcb7edf3",
       "version_major": 2,
       "version_minor": 0
      },
      "text/plain": [
       "danbooru_8707931.jpg:   0%|          | 0.00/145k [00:00<?, ?B/s]"
      ]
     },
     "metadata": {},
     "output_type": "display_data"
    },
    {
     "data": {
      "application/vnd.jupyter.widget-view+json": {
       "model_id": "81cd844f1a774839a9da38a960835a78",
       "version_major": 2,
       "version_minor": 0
      },
      "text/plain": [
       "danbooru_8705539.jpg:   0%|          | 0.00/169k [00:00<?, ?B/s]"
      ]
     },
     "metadata": {},
     "output_type": "display_data"
    },
    {
     "data": {
      "application/vnd.jupyter.widget-view+json": {
       "model_id": "357ee19f2f9e41a8abbbaed7460d2b2d",
       "version_major": 2,
       "version_minor": 0
      },
      "text/plain": [
       "danbooru_8702769.jpg:   0%|          | 0.00/135k [00:00<?, ?B/s]"
      ]
     },
     "metadata": {},
     "output_type": "display_data"
    },
    {
     "data": {
      "application/vnd.jupyter.widget-view+json": {
       "model_id": "7ebdec1d15ef485ca1fe76435e788d58",
       "version_major": 2,
       "version_minor": 0
      },
      "text/plain": [
       "danbooru_8695466.jpg:   0%|          | 0.00/7.61M [00:00<?, ?B/s]"
      ]
     },
     "metadata": {},
     "output_type": "display_data"
    },
    {
     "data": {
      "application/vnd.jupyter.widget-view+json": {
       "model_id": "051c9b77c18b46a3bcb6b227d9bb5b14",
       "version_major": 2,
       "version_minor": 0
      },
      "text/plain": [
       "danbooru_8695331.jpg:   0%|          | 0.00/3.72M [00:00<?, ?B/s]"
      ]
     },
     "metadata": {},
     "output_type": "display_data"
    },
    {
     "data": {
      "application/vnd.jupyter.widget-view+json": {
       "model_id": "68dcebeb6fac448aa7700581efafccce",
       "version_major": 2,
       "version_minor": 0
      },
      "text/plain": [
       "danbooru_8692585.jpg:   0%|          | 0.00/151k [00:00<?, ?B/s]"
      ]
     },
     "metadata": {},
     "output_type": "display_data"
    },
    {
     "data": {
      "application/vnd.jupyter.widget-view+json": {
       "model_id": "6873c73895bc44f0b36b7623d46947f8",
       "version_major": 2,
       "version_minor": 0
      },
      "text/plain": [
       "danbooru_8689724.jpg:   0%|          | 0.00/708k [00:00<?, ?B/s]"
      ]
     },
     "metadata": {},
     "output_type": "display_data"
    },
    {
     "data": {
      "application/vnd.jupyter.widget-view+json": {
       "model_id": "f0c7734d257e42d6994a886ffffcad41",
       "version_major": 2,
       "version_minor": 0
      },
      "text/plain": [
       "danbooru_8688748.jpg:   0%|          | 0.00/5.70M [00:00<?, ?B/s]"
      ]
     },
     "metadata": {},
     "output_type": "display_data"
    },
    {
     "data": {
      "application/vnd.jupyter.widget-view+json": {
       "model_id": "ac44ea3f70dc4ba8968b6251f20cf22b",
       "version_major": 2,
       "version_minor": 0
      },
      "text/plain": [
       "danbooru_8688311.jpg:   0%|          | 0.00/713k [00:00<?, ?B/s]"
      ]
     },
     "metadata": {},
     "output_type": "display_data"
    },
    {
     "data": {
      "application/vnd.jupyter.widget-view+json": {
       "model_id": "c374c61d9a5f48b590e1624b004f73e1",
       "version_major": 2,
       "version_minor": 0
      },
      "text/plain": [
       "danbooru_8687920.jpg:   0%|          | 0.00/128k [00:00<?, ?B/s]"
      ]
     },
     "metadata": {},
     "output_type": "display_data"
    },
    {
     "data": {
      "application/vnd.jupyter.widget-view+json": {
       "model_id": "5b46205b931d49ad8c51e0803ae70f2a",
       "version_major": 2,
       "version_minor": 0
      },
      "text/plain": [
       "danbooru_8685222.png:   0%|          | 0.00/18.7M [00:00<?, ?B/s]"
      ]
     },
     "metadata": {},
     "output_type": "display_data"
    },
    {
     "data": {
      "application/vnd.jupyter.widget-view+json": {
       "model_id": "97dccedc51124259b997c4f2306143b6",
       "version_major": 2,
       "version_minor": 0
      },
      "text/plain": [
       "danbooru_8683922.jpg:   0%|          | 0.00/166k [00:00<?, ?B/s]"
      ]
     },
     "metadata": {},
     "output_type": "display_data"
    },
    {
     "data": {
      "application/vnd.jupyter.widget-view+json": {
       "model_id": "77d61aab7f01436081fec72b8313fed2",
       "version_major": 2,
       "version_minor": 0
      },
      "text/plain": [
       "danbooru_8681328.jpg:   0%|          | 0.00/136k [00:00<?, ?B/s]"
      ]
     },
     "metadata": {},
     "output_type": "display_data"
    },
    {
     "data": {
      "application/vnd.jupyter.widget-view+json": {
       "model_id": "e216caf33faf4900abdc4c7e365e9859",
       "version_major": 2,
       "version_minor": 0
      },
      "text/plain": [
       "danbooru_8671610.jpg:   0%|          | 0.00/181k [00:00<?, ?B/s]"
      ]
     },
     "metadata": {},
     "output_type": "display_data"
    },
    {
     "data": {
      "application/vnd.jupyter.widget-view+json": {
       "model_id": "78691f4ca2af4f34ab182a2c9de059b9",
       "version_major": 2,
       "version_minor": 0
      },
      "text/plain": [
       "danbooru_8671220.jpg:   0%|          | 0.00/6.97M [00:00<?, ?B/s]"
      ]
     },
     "metadata": {},
     "output_type": "display_data"
    },
    {
     "data": {
      "application/vnd.jupyter.widget-view+json": {
       "model_id": "c6833224226d43e6b17b9c73a6ab6078",
       "version_major": 2,
       "version_minor": 0
      },
      "text/plain": [
       "danbooru_8669954.jpg:   0%|          | 0.00/229k [00:00<?, ?B/s]"
      ]
     },
     "metadata": {},
     "output_type": "display_data"
    },
    {
     "data": {
      "application/vnd.jupyter.widget-view+json": {
       "model_id": "09514543d6844a14b1c10e7a31844e3e",
       "version_major": 2,
       "version_minor": 0
      },
      "text/plain": [
       "danbooru_8669748.jpg:   0%|          | 0.00/163k [00:00<?, ?B/s]"
      ]
     },
     "metadata": {},
     "output_type": "display_data"
    },
    {
     "data": {
      "application/vnd.jupyter.widget-view+json": {
       "model_id": "70ca0523fe264b3584294acb01a62078",
       "version_major": 2,
       "version_minor": 0
      },
      "text/plain": [
       "danbooru_8669651.jpg:   0%|          | 0.00/11.4M [00:00<?, ?B/s]"
      ]
     },
     "metadata": {},
     "output_type": "display_data"
    },
    {
     "data": {
      "application/vnd.jupyter.widget-view+json": {
       "model_id": "19724973eefc4c1ebc607ee290cc9df2",
       "version_major": 2,
       "version_minor": 0
      },
      "text/plain": [
       "danbooru_8669581.jpg:   0%|          | 0.00/264k [00:00<?, ?B/s]"
      ]
     },
     "metadata": {},
     "output_type": "display_data"
    },
    {
     "data": {
      "application/vnd.jupyter.widget-view+json": {
       "model_id": "d051354ec46e48ecb564f32499993263",
       "version_major": 2,
       "version_minor": 0
      },
      "text/plain": [
       "danbooru_8669017.jpg:   0%|          | 0.00/133k [00:00<?, ?B/s]"
      ]
     },
     "metadata": {},
     "output_type": "display_data"
    },
    {
     "data": {
      "application/vnd.jupyter.widget-view+json": {
       "model_id": "cf63042ae7fc43f2bd80cdba1ea603f0",
       "version_major": 2,
       "version_minor": 0
      },
      "text/plain": [
       "danbooru_8667420.jpg:   0%|          | 0.00/191k [00:00<?, ?B/s]"
      ]
     },
     "metadata": {},
     "output_type": "display_data"
    },
    {
     "data": {
      "application/vnd.jupyter.widget-view+json": {
       "model_id": "47b68d2ec2c445139d53e8a9678b2692",
       "version_major": 2,
       "version_minor": 0
      },
      "text/plain": [
       "danbooru_8665015.jpg:   0%|          | 0.00/17.4M [00:00<?, ?B/s]"
      ]
     },
     "metadata": {},
     "output_type": "display_data"
    },
    {
     "data": {
      "application/vnd.jupyter.widget-view+json": {
       "model_id": "650ebd67192c4c1493541228b50e12db",
       "version_major": 2,
       "version_minor": 0
      },
      "text/plain": [
       "danbooru_8661113.jpg:   0%|          | 0.00/249k [00:00<?, ?B/s]"
      ]
     },
     "metadata": {},
     "output_type": "display_data"
    },
    {
     "data": {
      "application/vnd.jupyter.widget-view+json": {
       "model_id": "e052dfa770c94cf1ad1525c3a782f921",
       "version_major": 2,
       "version_minor": 0
      },
      "text/plain": [
       "danbooru_8659720.jpg:   0%|          | 0.00/2.73M [00:00<?, ?B/s]"
      ]
     },
     "metadata": {},
     "output_type": "display_data"
    },
    {
     "data": {
      "application/vnd.jupyter.widget-view+json": {
       "model_id": "e8cb79a525bb4275bc52ec912ce63c02",
       "version_major": 2,
       "version_minor": 0
      },
      "text/plain": [
       "danbooru_8658126.jpg:   0%|          | 0.00/109k [00:00<?, ?B/s]"
      ]
     },
     "metadata": {},
     "output_type": "display_data"
    },
    {
     "data": {
      "application/vnd.jupyter.widget-view+json": {
       "model_id": "47096876b13543ca9e67e87a28ba0b4f",
       "version_major": 2,
       "version_minor": 0
      },
      "text/plain": [
       "danbooru_8658026.jpg:   0%|          | 0.00/124k [00:00<?, ?B/s]"
      ]
     },
     "metadata": {},
     "output_type": "display_data"
    },
    {
     "data": {
      "application/vnd.jupyter.widget-view+json": {
       "model_id": "7e46ce247b7743dfa3babacd8f8b1507",
       "version_major": 2,
       "version_minor": 0
      },
      "text/plain": [
       "danbooru_8656963.jpg:   0%|          | 0.00/148k [00:00<?, ?B/s]"
      ]
     },
     "metadata": {},
     "output_type": "display_data"
    },
    {
     "data": {
      "application/vnd.jupyter.widget-view+json": {
       "model_id": "473166c925fc4bb09142d0bd47b3c83f",
       "version_major": 2,
       "version_minor": 0
      },
      "text/plain": [
       "danbooru_8656517.jpg:   0%|          | 0.00/161k [00:00<?, ?B/s]"
      ]
     },
     "metadata": {},
     "output_type": "display_data"
    },
    {
     "data": {
      "application/vnd.jupyter.widget-view+json": {
       "model_id": "ec70714bd14c4f408c5b893952293972",
       "version_major": 2,
       "version_minor": 0
      },
      "text/plain": [
       "danbooru_8656170.jpg:   0%|          | 0.00/178k [00:00<?, ?B/s]"
      ]
     },
     "metadata": {},
     "output_type": "display_data"
    },
    {
     "data": {
      "application/vnd.jupyter.widget-view+json": {
       "model_id": "de866dc413e24e0dbb31f4816e424fe4",
       "version_major": 2,
       "version_minor": 0
      },
      "text/plain": [
       "danbooru_8654260.jpg:   0%|          | 0.00/248k [00:00<?, ?B/s]"
      ]
     },
     "metadata": {},
     "output_type": "display_data"
    },
    {
     "data": {
      "application/vnd.jupyter.widget-view+json": {
       "model_id": "0cb04f11194947e9aa8a89d8483723bb",
       "version_major": 2,
       "version_minor": 0
      },
      "text/plain": [
       "danbooru_8654007.jpg:   0%|          | 0.00/707k [00:00<?, ?B/s]"
      ]
     },
     "metadata": {},
     "output_type": "display_data"
    },
    {
     "data": {
      "application/vnd.jupyter.widget-view+json": {
       "model_id": "de9a968a3aa244c8826400e7bb657700",
       "version_major": 2,
       "version_minor": 0
      },
      "text/plain": [
       "danbooru_8652871.jpg:   0%|          | 0.00/590k [00:00<?, ?B/s]"
      ]
     },
     "metadata": {},
     "output_type": "display_data"
    },
    {
     "data": {
      "application/vnd.jupyter.widget-view+json": {
       "model_id": "0ce06ed840cb47caa6fb495a227db9fd",
       "version_major": 2,
       "version_minor": 0
      },
      "text/plain": [
       "danbooru_8651816.jpg:   0%|          | 0.00/95.0k [00:00<?, ?B/s]"
      ]
     },
     "metadata": {},
     "output_type": "display_data"
    },
    {
     "data": {
      "application/vnd.jupyter.widget-view+json": {
       "model_id": "6aa83b2e27d9472d8b63dde89d0e15ea",
       "version_major": 2,
       "version_minor": 0
      },
      "text/plain": [
       "danbooru_8649414.jpg:   0%|          | 0.00/64.0k [00:00<?, ?B/s]"
      ]
     },
     "metadata": {},
     "output_type": "display_data"
    },
    {
     "data": {
      "application/vnd.jupyter.widget-view+json": {
       "model_id": "f52d6a871ec3448a8bd16a5573749eae",
       "version_major": 2,
       "version_minor": 0
      },
      "text/plain": [
       "danbooru_8647803.jpg:   0%|          | 0.00/141k [00:00<?, ?B/s]"
      ]
     },
     "metadata": {},
     "output_type": "display_data"
    },
    {
     "data": {
      "application/vnd.jupyter.widget-view+json": {
       "model_id": "d0dde520b4ed452496fb9d022ca96fa4",
       "version_major": 2,
       "version_minor": 0
      },
      "text/plain": [
       "danbooru_8644626.jpg:   0%|          | 0.00/5.41M [00:00<?, ?B/s]"
      ]
     },
     "metadata": {},
     "output_type": "display_data"
    },
    {
     "data": {
      "application/vnd.jupyter.widget-view+json": {
       "model_id": "50be5a28778741b98e65197591802a71",
       "version_major": 2,
       "version_minor": 0
      },
      "text/plain": [
       "danbooru_8644624.jpg:   0%|          | 0.00/5.43M [00:00<?, ?B/s]"
      ]
     },
     "metadata": {},
     "output_type": "display_data"
    },
    {
     "data": {
      "application/vnd.jupyter.widget-view+json": {
       "model_id": "c8526c8b78704e51b6639c9296b616a5",
       "version_major": 2,
       "version_minor": 0
      },
      "text/plain": [
       "danbooru_8641605.jpg:   0%|          | 0.00/135k [00:00<?, ?B/s]"
      ]
     },
     "metadata": {},
     "output_type": "display_data"
    },
    {
     "data": {
      "application/vnd.jupyter.widget-view+json": {
       "model_id": "dc8def1ee2c9433d97b643ef06648e95",
       "version_major": 2,
       "version_minor": 0
      },
      "text/plain": [
       "danbooru_8641421.jpg:   0%|          | 0.00/126k [00:00<?, ?B/s]"
      ]
     },
     "metadata": {},
     "output_type": "display_data"
    },
    {
     "data": {
      "application/vnd.jupyter.widget-view+json": {
       "model_id": "d8b38b60d517432b9f091dc1323a4f31",
       "version_major": 2,
       "version_minor": 0
      },
      "text/plain": [
       "danbooru_8639398.jpg:   0%|          | 0.00/179k [00:00<?, ?B/s]"
      ]
     },
     "metadata": {},
     "output_type": "display_data"
    },
    {
     "data": {
      "application/vnd.jupyter.widget-view+json": {
       "model_id": "a1f26529cd6c43bb84346418e1f5157b",
       "version_major": 2,
       "version_minor": 0
      },
      "text/plain": [
       "danbooru_8639109.jpg:   0%|          | 0.00/133k [00:00<?, ?B/s]"
      ]
     },
     "metadata": {},
     "output_type": "display_data"
    },
    {
     "data": {
      "application/vnd.jupyter.widget-view+json": {
       "model_id": "ffaf93feb23f4c81a5e2b3e793ec7d40",
       "version_major": 2,
       "version_minor": 0
      },
      "text/plain": [
       "danbooru_8638940.jpg:   0%|          | 0.00/129k [00:00<?, ?B/s]"
      ]
     },
     "metadata": {},
     "output_type": "display_data"
    },
    {
     "data": {
      "application/vnd.jupyter.widget-view+json": {
       "model_id": "d764e5123f614d4c96fc96e8cd9960de",
       "version_major": 2,
       "version_minor": 0
      },
      "text/plain": [
       "danbooru_8638513.jpg:   0%|          | 0.00/213k [00:00<?, ?B/s]"
      ]
     },
     "metadata": {},
     "output_type": "display_data"
    },
    {
     "data": {
      "application/vnd.jupyter.widget-view+json": {
       "model_id": "ca44cb4633e6446aad9f9e900ac02647",
       "version_major": 2,
       "version_minor": 0
      },
      "text/plain": [
       "danbooru_8638145.jpg:   0%|          | 0.00/111k [00:00<?, ?B/s]"
      ]
     },
     "metadata": {},
     "output_type": "display_data"
    },
    {
     "data": {
      "application/vnd.jupyter.widget-view+json": {
       "model_id": "3fa72cd5e1a74e2b8379c3e3699afd53",
       "version_major": 2,
       "version_minor": 0
      },
      "text/plain": [
       "danbooru_8638091.jpg:   0%|          | 0.00/115k [00:00<?, ?B/s]"
      ]
     },
     "metadata": {},
     "output_type": "display_data"
    },
    {
     "data": {
      "application/vnd.jupyter.widget-view+json": {
       "model_id": "fadcc9dddaf94c6f9241255b41e7517d",
       "version_major": 2,
       "version_minor": 0
      },
      "text/plain": [
       "danbooru_8637745.jpg:   0%|          | 0.00/217k [00:00<?, ?B/s]"
      ]
     },
     "metadata": {},
     "output_type": "display_data"
    },
    {
     "data": {
      "application/vnd.jupyter.widget-view+json": {
       "model_id": "855b0651d5ca464a95fff9c21527d6a7",
       "version_major": 2,
       "version_minor": 0
      },
      "text/plain": [
       "danbooru_8637744.jpg:   0%|          | 0.00/219k [00:00<?, ?B/s]"
      ]
     },
     "metadata": {},
     "output_type": "display_data"
    },
    {
     "data": {
      "application/vnd.jupyter.widget-view+json": {
       "model_id": "028633f4ad01494491fe607243c4b7ef",
       "version_major": 2,
       "version_minor": 0
      },
      "text/plain": [
       "danbooru_8634576.png:   0%|          | 0.00/8.57M [00:00<?, ?B/s]"
      ]
     },
     "metadata": {},
     "output_type": "display_data"
    },
    {
     "data": {
      "application/vnd.jupyter.widget-view+json": {
       "model_id": "4726d388b4c0492683f2f4c097702293",
       "version_major": 2,
       "version_minor": 0
      },
      "text/plain": [
       "danbooru_8631306.jpg:   0%|          | 0.00/137k [00:00<?, ?B/s]"
      ]
     },
     "metadata": {},
     "output_type": "display_data"
    },
    {
     "data": {
      "application/vnd.jupyter.widget-view+json": {
       "model_id": "ff1352a2722b46d6a6c7eccf5840f548",
       "version_major": 2,
       "version_minor": 0
      },
      "text/plain": [
       "danbooru_8629189.jpg:   0%|          | 0.00/172k [00:00<?, ?B/s]"
      ]
     },
     "metadata": {},
     "output_type": "display_data"
    },
    {
     "data": {
      "application/vnd.jupyter.widget-view+json": {
       "model_id": "69ef6f1bf2cc460193814ccec1408a01",
       "version_major": 2,
       "version_minor": 0
      },
      "text/plain": [
       "danbooru_8629177.png:   0%|          | 0.00/3.99M [00:00<?, ?B/s]"
      ]
     },
     "metadata": {},
     "output_type": "display_data"
    },
    {
     "data": {
      "application/vnd.jupyter.widget-view+json": {
       "model_id": "ee652c916a0f46f0a137efdb191d9731",
       "version_major": 2,
       "version_minor": 0
      },
      "text/plain": [
       "danbooru_8628547.jpg:   0%|          | 0.00/161k [00:00<?, ?B/s]"
      ]
     },
     "metadata": {},
     "output_type": "display_data"
    },
    {
     "data": {
      "application/vnd.jupyter.widget-view+json": {
       "model_id": "8dbde047030a4031a8f96f0a4177e018",
       "version_major": 2,
       "version_minor": 0
      },
      "text/plain": [
       "danbooru_8627518.jpg:   0%|          | 0.00/146k [00:00<?, ?B/s]"
      ]
     },
     "metadata": {},
     "output_type": "display_data"
    },
    {
     "data": {
      "application/vnd.jupyter.widget-view+json": {
       "model_id": "851a7fa02a4040f385c8369decf28cfb",
       "version_major": 2,
       "version_minor": 0
      },
      "text/plain": [
       "danbooru_8627154.jpg:   0%|          | 0.00/1.72M [00:00<?, ?B/s]"
      ]
     },
     "metadata": {},
     "output_type": "display_data"
    },
    {
     "data": {
      "application/vnd.jupyter.widget-view+json": {
       "model_id": "463b5236989b4c958bc4ef8451992d86",
       "version_major": 2,
       "version_minor": 0
      },
      "text/plain": [
       "danbooru_8625511.jpg:   0%|          | 0.00/199k [00:00<?, ?B/s]"
      ]
     },
     "metadata": {},
     "output_type": "display_data"
    },
    {
     "data": {
      "application/vnd.jupyter.widget-view+json": {
       "model_id": "a20ddd598f25430d8bf7ab4babbdda54",
       "version_major": 2,
       "version_minor": 0
      },
      "text/plain": [
       "danbooru_8625498.jpg:   0%|          | 0.00/179k [00:00<?, ?B/s]"
      ]
     },
     "metadata": {},
     "output_type": "display_data"
    },
    {
     "data": {
      "application/vnd.jupyter.widget-view+json": {
       "model_id": "a566d9e8bac549cda01ffded45ec1f45",
       "version_major": 2,
       "version_minor": 0
      },
      "text/plain": [
       "danbooru_8624186.jpg:   0%|          | 0.00/158k [00:00<?, ?B/s]"
      ]
     },
     "metadata": {},
     "output_type": "display_data"
    },
    {
     "data": {
      "application/vnd.jupyter.widget-view+json": {
       "model_id": "aaa28890ed0d460a8b1422721ceaa7ae",
       "version_major": 2,
       "version_minor": 0
      },
      "text/plain": [
       "danbooru_8624173.png:   0%|          | 0.00/9.24M [00:00<?, ?B/s]"
      ]
     },
     "metadata": {},
     "output_type": "display_data"
    },
    {
     "data": {
      "application/vnd.jupyter.widget-view+json": {
       "model_id": "115e29b88c504af1b46861afba75edbd",
       "version_major": 2,
       "version_minor": 0
      },
      "text/plain": [
       "danbooru_8623853.jpg:   0%|          | 0.00/145k [00:00<?, ?B/s]"
      ]
     },
     "metadata": {},
     "output_type": "display_data"
    },
    {
     "data": {
      "application/vnd.jupyter.widget-view+json": {
       "model_id": "ecea74c88e6449f49cdc4d095cd54200",
       "version_major": 2,
       "version_minor": 0
      },
      "text/plain": [
       "danbooru_8623266.jpg:   0%|          | 0.00/174k [00:00<?, ?B/s]"
      ]
     },
     "metadata": {},
     "output_type": "display_data"
    },
    {
     "data": {
      "application/vnd.jupyter.widget-view+json": {
       "model_id": "fb1ce963261d49daba4d80f3e922b446",
       "version_major": 2,
       "version_minor": 0
      },
      "text/plain": [
       "danbooru_8621072.jpg:   0%|          | 0.00/125k [00:00<?, ?B/s]"
      ]
     },
     "metadata": {},
     "output_type": "display_data"
    },
    {
     "data": {
      "application/vnd.jupyter.widget-view+json": {
       "model_id": "6152ec8bb24842c5ab61ee336585dcdc",
       "version_major": 2,
       "version_minor": 0
      },
      "text/plain": [
       "danbooru_8619625.jpg:   0%|          | 0.00/113k [00:00<?, ?B/s]"
      ]
     },
     "metadata": {},
     "output_type": "display_data"
    },
    {
     "data": {
      "application/vnd.jupyter.widget-view+json": {
       "model_id": "c8fbe10555f64a69bdbce5ac61d70087",
       "version_major": 2,
       "version_minor": 0
      },
      "text/plain": [
       "danbooru_8619320.jpg:   0%|          | 0.00/129k [00:00<?, ?B/s]"
      ]
     },
     "metadata": {},
     "output_type": "display_data"
    },
    {
     "data": {
      "application/vnd.jupyter.widget-view+json": {
       "model_id": "584091c6b2664316ade4eb74e00e754b",
       "version_major": 2,
       "version_minor": 0
      },
      "text/plain": [
       "danbooru_8619257.jpg:   0%|          | 0.00/160k [00:00<?, ?B/s]"
      ]
     },
     "metadata": {},
     "output_type": "display_data"
    },
    {
     "data": {
      "application/vnd.jupyter.widget-view+json": {
       "model_id": "c4131605402e4a7492439063e66bc288",
       "version_major": 2,
       "version_minor": 0
      },
      "text/plain": [
       "danbooru_8618829.jpg:   0%|          | 0.00/1.09M [00:00<?, ?B/s]"
      ]
     },
     "metadata": {},
     "output_type": "display_data"
    },
    {
     "data": {
      "application/vnd.jupyter.widget-view+json": {
       "model_id": "30ac91b89ced4886b13accd03b19088a",
       "version_major": 2,
       "version_minor": 0
      },
      "text/plain": [
       "danbooru_8618187.jpg:   0%|          | 0.00/364k [00:00<?, ?B/s]"
      ]
     },
     "metadata": {},
     "output_type": "display_data"
    },
    {
     "data": {
      "application/vnd.jupyter.widget-view+json": {
       "model_id": "3007d4cda5ad4028b5357a9c7cc10078",
       "version_major": 2,
       "version_minor": 0
      },
      "text/plain": [
       "danbooru_8618148.jpg:   0%|          | 0.00/200k [00:00<?, ?B/s]"
      ]
     },
     "metadata": {},
     "output_type": "display_data"
    },
    {
     "data": {
      "application/vnd.jupyter.widget-view+json": {
       "model_id": "3cfc48cc32854f999536381ef61d81b5",
       "version_major": 2,
       "version_minor": 0
      },
      "text/plain": [
       "danbooru_8615157.png:   0%|          | 0.00/1.39M [00:00<?, ?B/s]"
      ]
     },
     "metadata": {},
     "output_type": "display_data"
    },
    {
     "data": {
      "application/vnd.jupyter.widget-view+json": {
       "model_id": "799dd74fafbc40c388869e00a9db9635",
       "version_major": 2,
       "version_minor": 0
      },
      "text/plain": [
       "danbooru_8614947.jpg:   0%|          | 0.00/167k [00:00<?, ?B/s]"
      ]
     },
     "metadata": {},
     "output_type": "display_data"
    },
    {
     "data": {
      "application/vnd.jupyter.widget-view+json": {
       "model_id": "7c065cfbd4e147a59d515745d0750dbe",
       "version_major": 2,
       "version_minor": 0
      },
      "text/plain": [
       "danbooru_8614832.jpg:   0%|          | 0.00/2.45M [00:00<?, ?B/s]"
      ]
     },
     "metadata": {},
     "output_type": "display_data"
    },
    {
     "data": {
      "application/vnd.jupyter.widget-view+json": {
       "model_id": "6a97c08a762d4188b2dac1fd98f4e0e7",
       "version_major": 2,
       "version_minor": 0
      },
      "text/plain": [
       "danbooru_8614536.jpg:   0%|          | 0.00/139k [00:00<?, ?B/s]"
      ]
     },
     "metadata": {},
     "output_type": "display_data"
    },
    {
     "data": {
      "application/vnd.jupyter.widget-view+json": {
       "model_id": "4185be129533437c93a6fae2bca86c73",
       "version_major": 2,
       "version_minor": 0
      },
      "text/plain": [
       "danbooru_8613444.jpg:   0%|          | 0.00/212k [00:00<?, ?B/s]"
      ]
     },
     "metadata": {},
     "output_type": "display_data"
    },
    {
     "data": {
      "application/vnd.jupyter.widget-view+json": {
       "model_id": "1b4003ab405c434abdb277b99e52d74a",
       "version_major": 2,
       "version_minor": 0
      },
      "text/plain": [
       "danbooru_8613060.jpg:   0%|          | 0.00/15.3M [00:00<?, ?B/s]"
      ]
     },
     "metadata": {},
     "output_type": "display_data"
    },
    {
     "data": {
      "application/vnd.jupyter.widget-view+json": {
       "model_id": "9f5df59fd4ad476f84448f4c80bbc73d",
       "version_major": 2,
       "version_minor": 0
      },
      "text/plain": [
       "danbooru_8612629.jpg:   0%|          | 0.00/153k [00:00<?, ?B/s]"
      ]
     },
     "metadata": {},
     "output_type": "display_data"
    },
    {
     "data": {
      "application/vnd.jupyter.widget-view+json": {
       "model_id": "8a5defc9fdd74316ba420572e940ec87",
       "version_major": 2,
       "version_minor": 0
      },
      "text/plain": [
       "danbooru_8612628.jpg:   0%|          | 0.00/155k [00:00<?, ?B/s]"
      ]
     },
     "metadata": {},
     "output_type": "display_data"
    },
    {
     "data": {
      "application/vnd.jupyter.widget-view+json": {
       "model_id": "1c88cf1305ff450c93243d64ab29e0a8",
       "version_major": 2,
       "version_minor": 0
      },
      "text/plain": [
       "danbooru_8612523.png:   0%|          | 0.00/13.3M [00:00<?, ?B/s]"
      ]
     },
     "metadata": {},
     "output_type": "display_data"
    },
    {
     "data": {
      "application/vnd.jupyter.widget-view+json": {
       "model_id": "ec3af78718f044cf84d1e1cd26da8862",
       "version_major": 2,
       "version_minor": 0
      },
      "text/plain": [
       "danbooru_8612494.jpg:   0%|          | 0.00/2.36M [00:00<?, ?B/s]"
      ]
     },
     "metadata": {},
     "output_type": "display_data"
    },
    {
     "name": "stderr",
     "output_type": "stream",
     "text": [
      "/usr/local/lib/python3.10/dist-packages/PIL/TiffImagePlugin.py:949: UserWarning: Corrupt EXIF data.  Expecting to read 4 bytes but only got 0. \n",
      "  warnings.warn(str(msg))\n"
     ]
    },
    {
     "data": {
      "application/vnd.jupyter.widget-view+json": {
       "model_id": "e15116a14e7a475a85c52730af21024e",
       "version_major": 2,
       "version_minor": 0
      },
      "text/plain": [
       "danbooru_8612450.jpg:   0%|          | 0.00/428k [00:00<?, ?B/s]"
      ]
     },
     "metadata": {},
     "output_type": "display_data"
    },
    {
     "data": {
      "application/vnd.jupyter.widget-view+json": {
       "model_id": "ba511d9b42c74b4aa9456434045d3d91",
       "version_major": 2,
       "version_minor": 0
      },
      "text/plain": [
       "danbooru_8612425.jpg:   0%|          | 0.00/176k [00:00<?, ?B/s]"
      ]
     },
     "metadata": {},
     "output_type": "display_data"
    },
    {
     "data": {
      "application/vnd.jupyter.widget-view+json": {
       "model_id": "70f0d1b97984450f8ae55bce1e1c51c0",
       "version_major": 2,
       "version_minor": 0
      },
      "text/plain": [
       "danbooru_8612346.jpg:   0%|          | 0.00/168k [00:00<?, ?B/s]"
      ]
     },
     "metadata": {},
     "output_type": "display_data"
    },
    {
     "data": {
      "application/vnd.jupyter.widget-view+json": {
       "model_id": "a4259607f9bc4d9a8dcfdb5e64a7b695",
       "version_major": 2,
       "version_minor": 0
      },
      "text/plain": [
       "danbooru_8610286.jpg:   0%|          | 0.00/9.87M [00:00<?, ?B/s]"
      ]
     },
     "metadata": {},
     "output_type": "display_data"
    },
    {
     "data": {
      "application/vnd.jupyter.widget-view+json": {
       "model_id": "ef9045cf828d4db6aa5c3e2d7d5b245d",
       "version_major": 2,
       "version_minor": 0
      },
      "text/plain": [
       "danbooru_8610028.jpg:   0%|          | 0.00/208k [00:00<?, ?B/s]"
      ]
     },
     "metadata": {},
     "output_type": "display_data"
    },
    {
     "data": {
      "application/vnd.jupyter.widget-view+json": {
       "model_id": "7be57f450db64221b9b2edcc2499175a",
       "version_major": 2,
       "version_minor": 0
      },
      "text/plain": [
       "danbooru_8608177.jpg:   0%|          | 0.00/193k [00:00<?, ?B/s]"
      ]
     },
     "metadata": {},
     "output_type": "display_data"
    },
    {
     "data": {
      "application/vnd.jupyter.widget-view+json": {
       "model_id": "8586f7d3c4a445e097c61b5b3559e6e4",
       "version_major": 2,
       "version_minor": 0
      },
      "text/plain": [
       "danbooru_8606801.jpg:   0%|          | 0.00/98.9k [00:00<?, ?B/s]"
      ]
     },
     "metadata": {},
     "output_type": "display_data"
    },
    {
     "data": {
      "application/vnd.jupyter.widget-view+json": {
       "model_id": "3d670e0665f74c659dfd8a6ff44349ef",
       "version_major": 2,
       "version_minor": 0
      },
      "text/plain": [
       "danbooru_8603670.jpg:   0%|          | 0.00/156k [00:00<?, ?B/s]"
      ]
     },
     "metadata": {},
     "output_type": "display_data"
    },
    {
     "data": {
      "application/vnd.jupyter.widget-view+json": {
       "model_id": "4b2a95ff048c4a84b548d202a3f67bf3",
       "version_major": 2,
       "version_minor": 0
      },
      "text/plain": [
       "danbooru_8600983.jpg:   0%|          | 0.00/115k [00:00<?, ?B/s]"
      ]
     },
     "metadata": {},
     "output_type": "display_data"
    },
    {
     "data": {
      "application/vnd.jupyter.widget-view+json": {
       "model_id": "d373225f6e5e4ddb97e568d021340274",
       "version_major": 2,
       "version_minor": 0
      },
      "text/plain": [
       "danbooru_8599371.jpg:   0%|          | 0.00/171k [00:00<?, ?B/s]"
      ]
     },
     "metadata": {},
     "output_type": "display_data"
    },
    {
     "data": {
      "application/vnd.jupyter.widget-view+json": {
       "model_id": "a3a30a64b56b4da88c64b063bec028ba",
       "version_major": 2,
       "version_minor": 0
      },
      "text/plain": [
       "danbooru_8599146.png:   0%|          | 0.00/5.67M [00:00<?, ?B/s]"
      ]
     },
     "metadata": {},
     "output_type": "display_data"
    },
    {
     "data": {
      "application/vnd.jupyter.widget-view+json": {
       "model_id": "e8369d57d8ac46b6a6d06eb9430a2b2c",
       "version_major": 2,
       "version_minor": 0
      },
      "text/plain": [
       "danbooru_8599073.jpg:   0%|          | 0.00/119k [00:00<?, ?B/s]"
      ]
     },
     "metadata": {},
     "output_type": "display_data"
    },
    {
     "data": {
      "application/vnd.jupyter.widget-view+json": {
       "model_id": "ed175be9ef9c499db904028558c87eec",
       "version_major": 2,
       "version_minor": 0
      },
      "text/plain": [
       "danbooru_8597600.jpg:   0%|          | 0.00/220k [00:00<?, ?B/s]"
      ]
     },
     "metadata": {},
     "output_type": "display_data"
    },
    {
     "data": {
      "application/vnd.jupyter.widget-view+json": {
       "model_id": "937cffe34cab4f2fab4fdee6fef5794e",
       "version_major": 2,
       "version_minor": 0
      },
      "text/plain": [
       "danbooru_8594267.jpg:   0%|          | 0.00/132k [00:00<?, ?B/s]"
      ]
     },
     "metadata": {},
     "output_type": "display_data"
    },
    {
     "data": {
      "application/vnd.jupyter.widget-view+json": {
       "model_id": "b691d0d73b484c2c8236a152edd07de3",
       "version_major": 2,
       "version_minor": 0
      },
      "text/plain": [
       "danbooru_8593483.png:   0%|          | 0.00/11.5M [00:00<?, ?B/s]"
      ]
     },
     "metadata": {},
     "output_type": "display_data"
    },
    {
     "data": {
      "application/vnd.jupyter.widget-view+json": {
       "model_id": "9d9f5aaf36864c34a9e17cdc965186be",
       "version_major": 2,
       "version_minor": 0
      },
      "text/plain": [
       "danbooru_8591564.jpg:   0%|          | 0.00/188k [00:00<?, ?B/s]"
      ]
     },
     "metadata": {},
     "output_type": "display_data"
    },
    {
     "data": {
      "application/vnd.jupyter.widget-view+json": {
       "model_id": "81f113feb63e4c3f9ee7bad06e316464",
       "version_major": 2,
       "version_minor": 0
      },
      "text/plain": [
       "danbooru_8590233.jpg:   0%|          | 0.00/426k [00:00<?, ?B/s]"
      ]
     },
     "metadata": {},
     "output_type": "display_data"
    },
    {
     "data": {
      "application/vnd.jupyter.widget-view+json": {
       "model_id": "9efad60106b34a22a3bd444bf08ad91c",
       "version_major": 2,
       "version_minor": 0
      },
      "text/plain": [
       "danbooru_8590010.jpg:   0%|          | 0.00/205k [00:00<?, ?B/s]"
      ]
     },
     "metadata": {},
     "output_type": "display_data"
    },
    {
     "data": {
      "application/vnd.jupyter.widget-view+json": {
       "model_id": "e313e462108c4bc585745c3f5c69db55",
       "version_major": 2,
       "version_minor": 0
      },
      "text/plain": [
       "danbooru_8590009.jpg:   0%|          | 0.00/4.40M [00:00<?, ?B/s]"
      ]
     },
     "metadata": {},
     "output_type": "display_data"
    },
    {
     "data": {
      "application/vnd.jupyter.widget-view+json": {
       "model_id": "002446d602bd4e178bf1a92be3626146",
       "version_major": 2,
       "version_minor": 0
      },
      "text/plain": [
       "danbooru_8589803.jpg:   0%|          | 0.00/179k [00:00<?, ?B/s]"
      ]
     },
     "metadata": {},
     "output_type": "display_data"
    },
    {
     "data": {
      "application/vnd.jupyter.widget-view+json": {
       "model_id": "0352eb7cd51f407c8250af6612921b7b",
       "version_major": 2,
       "version_minor": 0
      },
      "text/plain": [
       "danbooru_8589795.jpg:   0%|          | 0.00/177k [00:00<?, ?B/s]"
      ]
     },
     "metadata": {},
     "output_type": "display_data"
    },
    {
     "data": {
      "application/vnd.jupyter.widget-view+json": {
       "model_id": "e30755dfb3c84f6683c565c2ba0a9709",
       "version_major": 2,
       "version_minor": 0
      },
      "text/plain": [
       "danbooru_8589794.jpg:   0%|          | 0.00/181k [00:00<?, ?B/s]"
      ]
     },
     "metadata": {},
     "output_type": "display_data"
    },
    {
     "data": {
      "application/vnd.jupyter.widget-view+json": {
       "model_id": "5092593a71454e1382312233fb5317d7",
       "version_major": 2,
       "version_minor": 0
      },
      "text/plain": [
       "danbooru_8585361.jpg:   0%|          | 0.00/152k [00:00<?, ?B/s]"
      ]
     },
     "metadata": {},
     "output_type": "display_data"
    },
    {
     "data": {
      "application/vnd.jupyter.widget-view+json": {
       "model_id": "cdf54d84c19a4cf182ecd8328ea6472b",
       "version_major": 2,
       "version_minor": 0
      },
      "text/plain": [
       "danbooru_8582674.jpg:   0%|          | 0.00/110k [00:00<?, ?B/s]"
      ]
     },
     "metadata": {},
     "output_type": "display_data"
    },
    {
     "data": {
      "application/vnd.jupyter.widget-view+json": {
       "model_id": "9ad625b9e3614c39b7a001fcc8d6fad0",
       "version_major": 2,
       "version_minor": 0
      },
      "text/plain": [
       "danbooru_8582245.jpg:   0%|          | 0.00/5.05M [00:00<?, ?B/s]"
      ]
     },
     "metadata": {},
     "output_type": "display_data"
    },
    {
     "data": {
      "application/vnd.jupyter.widget-view+json": {
       "model_id": "ce174bc4cc9444cabf582b884e9aa35f",
       "version_major": 2,
       "version_minor": 0
      },
      "text/plain": [
       "danbooru_8581781.jpg:   0%|          | 0.00/121k [00:00<?, ?B/s]"
      ]
     },
     "metadata": {},
     "output_type": "display_data"
    },
    {
     "data": {
      "application/vnd.jupyter.widget-view+json": {
       "model_id": "d8f1e874db6b4adfb0e87128226345a3",
       "version_major": 2,
       "version_minor": 0
      },
      "text/plain": [
       "danbooru_8581739.jpg:   0%|          | 0.00/2.12M [00:00<?, ?B/s]"
      ]
     },
     "metadata": {},
     "output_type": "display_data"
    },
    {
     "data": {
      "application/vnd.jupyter.widget-view+json": {
       "model_id": "d8a20a4921474c608b7e8688cda8b1f8",
       "version_major": 2,
       "version_minor": 0
      },
      "text/plain": [
       "danbooru_8581649.jpg:   0%|          | 0.00/192k [00:00<?, ?B/s]"
      ]
     },
     "metadata": {},
     "output_type": "display_data"
    },
    {
     "data": {
      "application/vnd.jupyter.widget-view+json": {
       "model_id": "94da554a8c95400bbc32c485bb20d0b4",
       "version_major": 2,
       "version_minor": 0
      },
      "text/plain": [
       "danbooru_8581569.jpg:   0%|          | 0.00/306k [00:00<?, ?B/s]"
      ]
     },
     "metadata": {},
     "output_type": "display_data"
    },
    {
     "data": {
      "application/vnd.jupyter.widget-view+json": {
       "model_id": "9d3df3d0d2aa43e58288895919d3a045",
       "version_major": 2,
       "version_minor": 0
      },
      "text/plain": [
       "danbooru_8580863.jpg:   0%|          | 0.00/148k [00:00<?, ?B/s]"
      ]
     },
     "metadata": {},
     "output_type": "display_data"
    },
    {
     "data": {
      "application/vnd.jupyter.widget-view+json": {
       "model_id": "0edb2b8df3424cc0beca96de293733a2",
       "version_major": 2,
       "version_minor": 0
      },
      "text/plain": [
       "danbooru_8568169.jpg:   0%|          | 0.00/185k [00:00<?, ?B/s]"
      ]
     },
     "metadata": {},
     "output_type": "display_data"
    },
    {
     "data": {
      "application/vnd.jupyter.widget-view+json": {
       "model_id": "8ea4cc6fdd68439fb3cd7930efff2add",
       "version_major": 2,
       "version_minor": 0
      },
      "text/plain": [
       "danbooru_8565952.jpg:   0%|          | 0.00/137k [00:00<?, ?B/s]"
      ]
     },
     "metadata": {},
     "output_type": "display_data"
    },
    {
     "data": {
      "application/vnd.jupyter.widget-view+json": {
       "model_id": "628d5029e12f48469bced972f2036fcc",
       "version_major": 2,
       "version_minor": 0
      },
      "text/plain": [
       "danbooru_8563604.jpg:   0%|          | 0.00/131k [00:00<?, ?B/s]"
      ]
     },
     "metadata": {},
     "output_type": "display_data"
    },
    {
     "data": {
      "application/vnd.jupyter.widget-view+json": {
       "model_id": "06e15339960c4de09824862ddb8da64f",
       "version_major": 2,
       "version_minor": 0
      },
      "text/plain": [
       "danbooru_8563240.jpg:   0%|          | 0.00/174k [00:00<?, ?B/s]"
      ]
     },
     "metadata": {},
     "output_type": "display_data"
    },
    {
     "data": {
      "application/vnd.jupyter.widget-view+json": {
       "model_id": "8fa7a7c44bf24811a458c96a49dd6d89",
       "version_major": 2,
       "version_minor": 0
      },
      "text/plain": [
       "danbooru_8562739.jpg:   0%|          | 0.00/220k [00:00<?, ?B/s]"
      ]
     },
     "metadata": {},
     "output_type": "display_data"
    },
    {
     "data": {
      "application/vnd.jupyter.widget-view+json": {
       "model_id": "02fe7a528a3e4c24959f41c1a3c31a69",
       "version_major": 2,
       "version_minor": 0
      },
      "text/plain": [
       "danbooru_8562547.jpg:   0%|          | 0.00/197k [00:00<?, ?B/s]"
      ]
     },
     "metadata": {},
     "output_type": "display_data"
    },
    {
     "data": {
      "application/vnd.jupyter.widget-view+json": {
       "model_id": "286d9670bb754ac89cc1df36674e5271",
       "version_major": 2,
       "version_minor": 0
      },
      "text/plain": [
       "danbooru_8562474.jpg:   0%|          | 0.00/338k [00:00<?, ?B/s]"
      ]
     },
     "metadata": {},
     "output_type": "display_data"
    },
    {
     "data": {
      "application/vnd.jupyter.widget-view+json": {
       "model_id": "244271588600441b84fc8f278d3d0a12",
       "version_major": 2,
       "version_minor": 0
      },
      "text/plain": [
       "danbooru_8559711.jpg:   0%|          | 0.00/166k [00:00<?, ?B/s]"
      ]
     },
     "metadata": {},
     "output_type": "display_data"
    },
    {
     "data": {
      "application/vnd.jupyter.widget-view+json": {
       "model_id": "8bc991db0e5342f8b60b11e0f7a51a32",
       "version_major": 2,
       "version_minor": 0
      },
      "text/plain": [
       "danbooru_8559618.jpg:   0%|          | 0.00/155k [00:00<?, ?B/s]"
      ]
     },
     "metadata": {},
     "output_type": "display_data"
    },
    {
     "data": {
      "application/vnd.jupyter.widget-view+json": {
       "model_id": "6a2fd3054ae04db0a64c119426aa1fe7",
       "version_major": 2,
       "version_minor": 0
      },
      "text/plain": [
       "danbooru_8553514.jpg:   0%|          | 0.00/172k [00:00<?, ?B/s]"
      ]
     },
     "metadata": {},
     "output_type": "display_data"
    },
    {
     "data": {
      "application/vnd.jupyter.widget-view+json": {
       "model_id": "f170a4f915fb465f8503923bff627162",
       "version_major": 2,
       "version_minor": 0
      },
      "text/plain": [
       "danbooru_8552551.jpg:   0%|          | 0.00/86.8k [00:00<?, ?B/s]"
      ]
     },
     "metadata": {},
     "output_type": "display_data"
    },
    {
     "data": {
      "application/vnd.jupyter.widget-view+json": {
       "model_id": "a0c8020d1f3d48b1b0cd26996aa88ee7",
       "version_major": 2,
       "version_minor": 0
      },
      "text/plain": [
       "danbooru_8552511.jpg:   0%|          | 0.00/273k [00:00<?, ?B/s]"
      ]
     },
     "metadata": {},
     "output_type": "display_data"
    },
    {
     "data": {
      "application/vnd.jupyter.widget-view+json": {
       "model_id": "6449a4bedc6c4cc793e1cab7edc00d19",
       "version_major": 2,
       "version_minor": 0
      },
      "text/plain": [
       "danbooru_8552460.jpg:   0%|          | 0.00/2.62M [00:00<?, ?B/s]"
      ]
     },
     "metadata": {},
     "output_type": "display_data"
    },
    {
     "data": {
      "application/vnd.jupyter.widget-view+json": {
       "model_id": "1731e221bdf04e43b836b14982c94873",
       "version_major": 2,
       "version_minor": 0
      },
      "text/plain": [
       "danbooru_8552107.jpg:   0%|          | 0.00/130k [00:00<?, ?B/s]"
      ]
     },
     "metadata": {},
     "output_type": "display_data"
    },
    {
     "data": {
      "application/vnd.jupyter.widget-view+json": {
       "model_id": "3d060e6e37454f109a52598cc0f85978",
       "version_major": 2,
       "version_minor": 0
      },
      "text/plain": [
       "danbooru_8551896.jpg:   0%|          | 0.00/162k [00:00<?, ?B/s]"
      ]
     },
     "metadata": {},
     "output_type": "display_data"
    },
    {
     "data": {
      "application/vnd.jupyter.widget-view+json": {
       "model_id": "5dccf81cc49946be9a5ffc0bad5391ef",
       "version_major": 2,
       "version_minor": 0
      },
      "text/plain": [
       "danbooru_8547213.jpg:   0%|          | 0.00/182k [00:00<?, ?B/s]"
      ]
     },
     "metadata": {},
     "output_type": "display_data"
    },
    {
     "data": {
      "application/vnd.jupyter.widget-view+json": {
       "model_id": "2b60fbe332814965999e2805203747c0",
       "version_major": 2,
       "version_minor": 0
      },
      "text/plain": [
       "danbooru_8542230.jpg:   0%|          | 0.00/111k [00:00<?, ?B/s]"
      ]
     },
     "metadata": {},
     "output_type": "display_data"
    },
    {
     "data": {
      "application/vnd.jupyter.widget-view+json": {
       "model_id": "4938370b76ee4e2a963a9371dee18b28",
       "version_major": 2,
       "version_minor": 0
      },
      "text/plain": [
       "danbooru_8538101.jpg:   0%|          | 0.00/102k [00:00<?, ?B/s]"
      ]
     },
     "metadata": {},
     "output_type": "display_data"
    },
    {
     "data": {
      "application/vnd.jupyter.widget-view+json": {
       "model_id": "97da9446694b47e5a8c8b87d93749032",
       "version_major": 2,
       "version_minor": 0
      },
      "text/plain": [
       "danbooru_8537912.jpg:   0%|          | 0.00/1.36M [00:00<?, ?B/s]"
      ]
     },
     "metadata": {},
     "output_type": "display_data"
    },
    {
     "data": {
      "application/vnd.jupyter.widget-view+json": {
       "model_id": "d597d2bfacf541a88392a187ff0a664e",
       "version_major": 2,
       "version_minor": 0
      },
      "text/plain": [
       "danbooru_8527951.jpg:   0%|          | 0.00/76.8k [00:00<?, ?B/s]"
      ]
     },
     "metadata": {},
     "output_type": "display_data"
    },
    {
     "data": {
      "application/vnd.jupyter.widget-view+json": {
       "model_id": "5249efba49224ef2ab1bd2e3b801a12b",
       "version_major": 2,
       "version_minor": 0
      },
      "text/plain": [
       "danbooru_8527944.jpg:   0%|          | 0.00/331k [00:00<?, ?B/s]"
      ]
     },
     "metadata": {},
     "output_type": "display_data"
    },
    {
     "data": {
      "application/vnd.jupyter.widget-view+json": {
       "model_id": "44c1cad10aaf446588e52dfac67ad2a6",
       "version_major": 2,
       "version_minor": 0
      },
      "text/plain": [
       "danbooru_8524110.jpg:   0%|          | 0.00/161k [00:00<?, ?B/s]"
      ]
     },
     "metadata": {},
     "output_type": "display_data"
    },
    {
     "data": {
      "application/vnd.jupyter.widget-view+json": {
       "model_id": "6a153d571f2647e19d4354c24567494e",
       "version_major": 2,
       "version_minor": 0
      },
      "text/plain": [
       "danbooru_8524094.jpg:   0%|          | 0.00/158k [00:00<?, ?B/s]"
      ]
     },
     "metadata": {},
     "output_type": "display_data"
    },
    {
     "data": {
      "application/vnd.jupyter.widget-view+json": {
       "model_id": "557f2e3f565143b88b3076ee12369124",
       "version_major": 2,
       "version_minor": 0
      },
      "text/plain": [
       "danbooru_8523190.jpg:   0%|          | 0.00/130k [00:00<?, ?B/s]"
      ]
     },
     "metadata": {},
     "output_type": "display_data"
    },
    {
     "data": {
      "application/vnd.jupyter.widget-view+json": {
       "model_id": "2ab434ad9df54c5ba8080190dd88cc2c",
       "version_major": 2,
       "version_minor": 0
      },
      "text/plain": [
       "danbooru_8521552.jpg:   0%|          | 0.00/1.22M [00:00<?, ?B/s]"
      ]
     },
     "metadata": {},
     "output_type": "display_data"
    },
    {
     "data": {
      "application/vnd.jupyter.widget-view+json": {
       "model_id": "68500ad197eb4951957f6155cb9c0025",
       "version_major": 2,
       "version_minor": 0
      },
      "text/plain": [
       "danbooru_8520201.jpg:   0%|          | 0.00/198k [00:00<?, ?B/s]"
      ]
     },
     "metadata": {},
     "output_type": "display_data"
    },
    {
     "data": {
      "application/vnd.jupyter.widget-view+json": {
       "model_id": "fa5fd75724a744418d63382a86e00e9e",
       "version_major": 2,
       "version_minor": 0
      },
      "text/plain": [
       "danbooru_8519074.jpg:   0%|          | 0.00/131k [00:00<?, ?B/s]"
      ]
     },
     "metadata": {},
     "output_type": "display_data"
    },
    {
     "data": {
      "application/vnd.jupyter.widget-view+json": {
       "model_id": "479d3f69a3e44c3ca43a187ad20955e2",
       "version_major": 2,
       "version_minor": 0
      },
      "text/plain": [
       "danbooru_8505291.jpg:   0%|          | 0.00/13.9M [00:00<?, ?B/s]"
      ]
     },
     "metadata": {},
     "output_type": "display_data"
    },
    {
     "data": {
      "application/vnd.jupyter.widget-view+json": {
       "model_id": "ee249a18dc7749c18152cf6c936c5668",
       "version_major": 2,
       "version_minor": 0
      },
      "text/plain": [
       "danbooru_8505289.jpg:   0%|          | 0.00/13.9M [00:00<?, ?B/s]"
      ]
     },
     "metadata": {},
     "output_type": "display_data"
    },
    {
     "data": {
      "application/vnd.jupyter.widget-view+json": {
       "model_id": "916cc8e490f54ba880baa7f77b692829",
       "version_major": 2,
       "version_minor": 0
      },
      "text/plain": [
       "danbooru_8499427.jpg:   0%|          | 0.00/235k [00:00<?, ?B/s]"
      ]
     },
     "metadata": {},
     "output_type": "display_data"
    },
    {
     "data": {
      "application/vnd.jupyter.widget-view+json": {
       "model_id": "b087c6e00f93432ca52c20694f8cbb9d",
       "version_major": 2,
       "version_minor": 0
      },
      "text/plain": [
       "danbooru_8487994.jpg:   0%|          | 0.00/185k [00:00<?, ?B/s]"
      ]
     },
     "metadata": {},
     "output_type": "display_data"
    },
    {
     "data": {
      "application/vnd.jupyter.widget-view+json": {
       "model_id": "8d28fa0c9ca34ca5a2892068c00f5ece",
       "version_major": 2,
       "version_minor": 0
      },
      "text/plain": [
       "danbooru_8487354.png:   0%|          | 0.00/1.92M [00:00<?, ?B/s]"
      ]
     },
     "metadata": {},
     "output_type": "display_data"
    },
    {
     "data": {
      "application/vnd.jupyter.widget-view+json": {
       "model_id": "dd237085438744d78bc76c822f6e5905",
       "version_major": 2,
       "version_minor": 0
      },
      "text/plain": [
       "danbooru_8484161.jpg:   0%|          | 0.00/176k [00:00<?, ?B/s]"
      ]
     },
     "metadata": {},
     "output_type": "display_data"
    },
    {
     "data": {
      "application/vnd.jupyter.widget-view+json": {
       "model_id": "d6c9af351b054c16bd67b966fb082c95",
       "version_major": 2,
       "version_minor": 0
      },
      "text/plain": [
       "danbooru_8482424.jpg:   0%|          | 0.00/96.2k [00:00<?, ?B/s]"
      ]
     },
     "metadata": {},
     "output_type": "display_data"
    },
    {
     "data": {
      "application/vnd.jupyter.widget-view+json": {
       "model_id": "3c67c59dd0604fd8894b4de8f1291379",
       "version_major": 2,
       "version_minor": 0
      },
      "text/plain": [
       "danbooru_8482038.jpg:   0%|          | 0.00/171k [00:00<?, ?B/s]"
      ]
     },
     "metadata": {},
     "output_type": "display_data"
    },
    {
     "data": {
      "application/vnd.jupyter.widget-view+json": {
       "model_id": "72c6a56ccd3044538a6ec45eb11d9f0a",
       "version_major": 2,
       "version_minor": 0
      },
      "text/plain": [
       "danbooru_8476690.jpg:   0%|          | 0.00/55.2k [00:00<?, ?B/s]"
      ]
     },
     "metadata": {},
     "output_type": "display_data"
    },
    {
     "data": {
      "application/vnd.jupyter.widget-view+json": {
       "model_id": "530c2669a0c44e658b30e9f31b37fb0c",
       "version_major": 2,
       "version_minor": 0
      },
      "text/plain": [
       "danbooru_8473839.jpg:   0%|          | 0.00/21.7M [00:00<?, ?B/s]"
      ]
     },
     "metadata": {},
     "output_type": "display_data"
    },
    {
     "data": {
      "application/vnd.jupyter.widget-view+json": {
       "model_id": "e7602d1dbdfc48548b25d1f2ca5cb00b",
       "version_major": 2,
       "version_minor": 0
      },
      "text/plain": [
       "danbooru_8472322.jpg:   0%|          | 0.00/174k [00:00<?, ?B/s]"
      ]
     },
     "metadata": {},
     "output_type": "display_data"
    },
    {
     "data": {
      "application/vnd.jupyter.widget-view+json": {
       "model_id": "ce559e25ba3c4e3f98533d80fe0f6c14",
       "version_major": 2,
       "version_minor": 0
      },
      "text/plain": [
       "danbooru_8470569.jpg:   0%|          | 0.00/80.0k [00:00<?, ?B/s]"
      ]
     },
     "metadata": {},
     "output_type": "display_data"
    },
    {
     "data": {
      "application/vnd.jupyter.widget-view+json": {
       "model_id": "6e4aa49810d34bf8a4e8fda95057c43e",
       "version_major": 2,
       "version_minor": 0
      },
      "text/plain": [
       "danbooru_8470566.jpg:   0%|          | 0.00/79.5k [00:00<?, ?B/s]"
      ]
     },
     "metadata": {},
     "output_type": "display_data"
    },
    {
     "data": {
      "application/vnd.jupyter.widget-view+json": {
       "model_id": "ac43b8280de84796a79cd26bfeb04223",
       "version_major": 2,
       "version_minor": 0
      },
      "text/plain": [
       "danbooru_8450670.png:   0%|          | 0.00/4.43M [00:00<?, ?B/s]"
      ]
     },
     "metadata": {},
     "output_type": "display_data"
    },
    {
     "data": {
      "application/vnd.jupyter.widget-view+json": {
       "model_id": "c762922a90ba433bb9ca5d011c8400f0",
       "version_major": 2,
       "version_minor": 0
      },
      "text/plain": [
       "danbooru_8438586.jpg:   0%|          | 0.00/208k [00:00<?, ?B/s]"
      ]
     },
     "metadata": {},
     "output_type": "display_data"
    },
    {
     "data": {
      "application/vnd.jupyter.widget-view+json": {
       "model_id": "5d12a741013c44ac98c4c77f3fcde78f",
       "version_major": 2,
       "version_minor": 0
      },
      "text/plain": [
       "danbooru_8417205.jpg:   0%|          | 0.00/115k [00:00<?, ?B/s]"
      ]
     },
     "metadata": {},
     "output_type": "display_data"
    },
    {
     "data": {
      "application/vnd.jupyter.widget-view+json": {
       "model_id": "98af0ea236de46d09b430145b1fddfdc",
       "version_major": 2,
       "version_minor": 0
      },
      "text/plain": [
       "danbooru_8400764.jpg:   0%|          | 0.00/196k [00:00<?, ?B/s]"
      ]
     },
     "metadata": {},
     "output_type": "display_data"
    },
    {
     "data": {
      "application/vnd.jupyter.widget-view+json": {
       "model_id": "c50124e016894aa2a346bb0b3b588fbc",
       "version_major": 2,
       "version_minor": 0
      },
      "text/plain": [
       "danbooru_8399305.jpg:   0%|          | 0.00/198k [00:00<?, ?B/s]"
      ]
     },
     "metadata": {},
     "output_type": "display_data"
    },
    {
     "data": {
      "application/vnd.jupyter.widget-view+json": {
       "model_id": "aeb7a5dc245649bcbbea417528fa20f4",
       "version_major": 2,
       "version_minor": 0
      },
      "text/plain": [
       "danbooru_8384042.jpg:   0%|          | 0.00/182k [00:00<?, ?B/s]"
      ]
     },
     "metadata": {},
     "output_type": "display_data"
    },
    {
     "data": {
      "application/vnd.jupyter.widget-view+json": {
       "model_id": "c06d93d4ccc4457e9f3c08b66e4fa4d2",
       "version_major": 2,
       "version_minor": 0
      },
      "text/plain": [
       "danbooru_8374315.jpg:   0%|          | 0.00/117k [00:00<?, ?B/s]"
      ]
     },
     "metadata": {},
     "output_type": "display_data"
    },
    {
     "data": {
      "application/vnd.jupyter.widget-view+json": {
       "model_id": "2afd7b1dc38d4683927404b4279f47b2",
       "version_major": 2,
       "version_minor": 0
      },
      "text/plain": [
       "danbooru_8374314.jpg:   0%|          | 0.00/127k [00:00<?, ?B/s]"
      ]
     },
     "metadata": {},
     "output_type": "display_data"
    },
    {
     "data": {
      "application/vnd.jupyter.widget-view+json": {
       "model_id": "59b9b6c5a8d143a494df20254f02387c",
       "version_major": 2,
       "version_minor": 0
      },
      "text/plain": [
       "danbooru_8358045.jpg:   0%|          | 0.00/119k [00:00<?, ?B/s]"
      ]
     },
     "metadata": {},
     "output_type": "display_data"
    },
    {
     "data": {
      "application/vnd.jupyter.widget-view+json": {
       "model_id": "8c9e6f1b186648898adf3a8ed9e1cb5a",
       "version_major": 2,
       "version_minor": 0
      },
      "text/plain": [
       "danbooru_8355785.jpg:   0%|          | 0.00/73.8k [00:00<?, ?B/s]"
      ]
     },
     "metadata": {},
     "output_type": "display_data"
    },
    {
     "data": {
      "application/vnd.jupyter.widget-view+json": {
       "model_id": "6b3cf8dc9ca148f0b6dbf97bb63cd0a2",
       "version_major": 2,
       "version_minor": 0
      },
      "text/plain": [
       "danbooru_8352075.jpg:   0%|          | 0.00/178k [00:00<?, ?B/s]"
      ]
     },
     "metadata": {},
     "output_type": "display_data"
    },
    {
     "data": {
      "application/vnd.jupyter.widget-view+json": {
       "model_id": "6510dfe395ca46b4a8b30fa5ddb49f7d",
       "version_major": 2,
       "version_minor": 0
      },
      "text/plain": [
       "danbooru_8351860.jpg:   0%|          | 0.00/104k [00:00<?, ?B/s]"
      ]
     },
     "metadata": {},
     "output_type": "display_data"
    },
    {
     "data": {
      "application/vnd.jupyter.widget-view+json": {
       "model_id": "9a9c5bfa1b0747a0a010b6847afa442d",
       "version_major": 2,
       "version_minor": 0
      },
      "text/plain": [
       "danbooru_8342332.jpg:   0%|          | 0.00/1.14M [00:00<?, ?B/s]"
      ]
     },
     "metadata": {},
     "output_type": "display_data"
    },
    {
     "data": {
      "application/vnd.jupyter.widget-view+json": {
       "model_id": "fde354aa4af048608e055e48e53bd106",
       "version_major": 2,
       "version_minor": 0
      },
      "text/plain": [
       "danbooru_8341602.jpg:   0%|          | 0.00/1.32M [00:00<?, ?B/s]"
      ]
     },
     "metadata": {},
     "output_type": "display_data"
    },
    {
     "data": {
      "application/vnd.jupyter.widget-view+json": {
       "model_id": "f952f8bae05041e18f2484cadc4520d9",
       "version_major": 2,
       "version_minor": 0
      },
      "text/plain": [
       "danbooru_8333561.jpg:   0%|          | 0.00/169k [00:00<?, ?B/s]"
      ]
     },
     "metadata": {},
     "output_type": "display_data"
    },
    {
     "data": {
      "application/vnd.jupyter.widget-view+json": {
       "model_id": "a4d0fbf4296b4ab2b445fb3ea1c72eb5",
       "version_major": 2,
       "version_minor": 0
      },
      "text/plain": [
       "danbooru_8331720.jpg:   0%|          | 0.00/130k [00:00<?, ?B/s]"
      ]
     },
     "metadata": {},
     "output_type": "display_data"
    },
    {
     "data": {
      "application/vnd.jupyter.widget-view+json": {
       "model_id": "161b8230d60a4cfdb94e7feb6c9ad08a",
       "version_major": 2,
       "version_minor": 0
      },
      "text/plain": [
       "danbooru_8329445.jpg:   0%|          | 0.00/156k [00:00<?, ?B/s]"
      ]
     },
     "metadata": {},
     "output_type": "display_data"
    },
    {
     "data": {
      "application/vnd.jupyter.widget-view+json": {
       "model_id": "0678c7d74ac845358b4260565446cfe1",
       "version_major": 2,
       "version_minor": 0
      },
      "text/plain": [
       "danbooru_8329050.jpg:   0%|          | 0.00/129k [00:00<?, ?B/s]"
      ]
     },
     "metadata": {},
     "output_type": "display_data"
    },
    {
     "data": {
      "application/vnd.jupyter.widget-view+json": {
       "model_id": "ceae635a9b514f34a3107de2fa0dd22c",
       "version_major": 2,
       "version_minor": 0
      },
      "text/plain": [
       "danbooru_8327400.jpg:   0%|          | 0.00/149k [00:00<?, ?B/s]"
      ]
     },
     "metadata": {},
     "output_type": "display_data"
    },
    {
     "data": {
      "application/vnd.jupyter.widget-view+json": {
       "model_id": "41cbd29376be4dfc8010cf2a8d70bd47",
       "version_major": 2,
       "version_minor": 0
      },
      "text/plain": [
       "danbooru_8326488.jpg:   0%|          | 0.00/137k [00:00<?, ?B/s]"
      ]
     },
     "metadata": {},
     "output_type": "display_data"
    },
    {
     "data": {
      "application/vnd.jupyter.widget-view+json": {
       "model_id": "1059a708fce44deeb341ee57c7fb25bd",
       "version_major": 2,
       "version_minor": 0
      },
      "text/plain": [
       "danbooru_8325677.jpg:   0%|          | 0.00/96.7k [00:00<?, ?B/s]"
      ]
     },
     "metadata": {},
     "output_type": "display_data"
    },
    {
     "data": {
      "application/vnd.jupyter.widget-view+json": {
       "model_id": "595ef1640ece444092e7491cd8651803",
       "version_major": 2,
       "version_minor": 0
      },
      "text/plain": [
       "danbooru_8324689.jpg:   0%|          | 0.00/152k [00:00<?, ?B/s]"
      ]
     },
     "metadata": {},
     "output_type": "display_data"
    },
    {
     "data": {
      "application/vnd.jupyter.widget-view+json": {
       "model_id": "0607e4402d8341f3beea282c1c7852fa",
       "version_major": 2,
       "version_minor": 0
      },
      "text/plain": [
       "danbooru_8323797.jpg:   0%|          | 0.00/2.05M [00:00<?, ?B/s]"
      ]
     },
     "metadata": {},
     "output_type": "display_data"
    },
    {
     "data": {
      "application/vnd.jupyter.widget-view+json": {
       "model_id": "cad2553b6a5545f5aa56b33878fcfe95",
       "version_major": 2,
       "version_minor": 0
      },
      "text/plain": [
       "danbooru_8319083.jpg:   0%|          | 0.00/135k [00:00<?, ?B/s]"
      ]
     },
     "metadata": {},
     "output_type": "display_data"
    },
    {
     "data": {
      "application/vnd.jupyter.widget-view+json": {
       "model_id": "a34a6e9bbef44e73955d5153cc77a07d",
       "version_major": 2,
       "version_minor": 0
      },
      "text/plain": [
       "danbooru_8318621.jpg:   0%|          | 0.00/160k [00:00<?, ?B/s]"
      ]
     },
     "metadata": {},
     "output_type": "display_data"
    },
    {
     "data": {
      "application/vnd.jupyter.widget-view+json": {
       "model_id": "e59e30e1e25141c2bf61b26bdbd34bc4",
       "version_major": 2,
       "version_minor": 0
      },
      "text/plain": [
       "danbooru_8316862.jpg:   0%|          | 0.00/97.3k [00:00<?, ?B/s]"
      ]
     },
     "metadata": {},
     "output_type": "display_data"
    },
    {
     "data": {
      "application/vnd.jupyter.widget-view+json": {
       "model_id": "84106a5fa5904512b041344b385f2467",
       "version_major": 2,
       "version_minor": 0
      },
      "text/plain": [
       "danbooru_8316340.jpg:   0%|          | 0.00/151k [00:00<?, ?B/s]"
      ]
     },
     "metadata": {},
     "output_type": "display_data"
    },
    {
     "data": {
      "application/vnd.jupyter.widget-view+json": {
       "model_id": "88229d45e12d4e4bbf600899ca1411f7",
       "version_major": 2,
       "version_minor": 0
      },
      "text/plain": [
       "danbooru_8312561.jpg:   0%|          | 0.00/138k [00:00<?, ?B/s]"
      ]
     },
     "metadata": {},
     "output_type": "display_data"
    },
    {
     "data": {
      "application/vnd.jupyter.widget-view+json": {
       "model_id": "3b523cea60d84a79ad2b87fa23a245b1",
       "version_major": 2,
       "version_minor": 0
      },
      "text/plain": [
       "danbooru_8310247.jpg:   0%|          | 0.00/179k [00:00<?, ?B/s]"
      ]
     },
     "metadata": {},
     "output_type": "display_data"
    },
    {
     "data": {
      "application/vnd.jupyter.widget-view+json": {
       "model_id": "edf1df7fd811420fbde3ee3e58314d98",
       "version_major": 2,
       "version_minor": 0
      },
      "text/plain": [
       "danbooru_8305247.jpg:   0%|          | 0.00/99.4k [00:00<?, ?B/s]"
      ]
     },
     "metadata": {},
     "output_type": "display_data"
    },
    {
     "data": {
      "application/vnd.jupyter.widget-view+json": {
       "model_id": "a14c1a201b034ea79f8b309e8f8c3c1d",
       "version_major": 2,
       "version_minor": 0
      },
      "text/plain": [
       "danbooru_8305225.jpg:   0%|          | 0.00/99.5k [00:00<?, ?B/s]"
      ]
     },
     "metadata": {},
     "output_type": "display_data"
    },
    {
     "data": {
      "application/vnd.jupyter.widget-view+json": {
       "model_id": "abec4f7867a1472ea2c0a3b0cdf819b1",
       "version_major": 2,
       "version_minor": 0
      },
      "text/plain": [
       "danbooru_8298842.jpg:   0%|          | 0.00/12.9M [00:00<?, ?B/s]"
      ]
     },
     "metadata": {},
     "output_type": "display_data"
    },
    {
     "data": {
      "application/vnd.jupyter.widget-view+json": {
       "model_id": "4b53603f3bfc41029e337cc380d8b0e2",
       "version_major": 2,
       "version_minor": 0
      },
      "text/plain": [
       "danbooru_8298724.jpg:   0%|          | 0.00/181k [00:00<?, ?B/s]"
      ]
     },
     "metadata": {},
     "output_type": "display_data"
    },
    {
     "data": {
      "application/vnd.jupyter.widget-view+json": {
       "model_id": "e184eaffaf294cd2a698909376bc0cba",
       "version_major": 2,
       "version_minor": 0
      },
      "text/plain": [
       "danbooru_8298663.jpg:   0%|          | 0.00/1.15M [00:00<?, ?B/s]"
      ]
     },
     "metadata": {},
     "output_type": "display_data"
    },
    {
     "data": {
      "application/vnd.jupyter.widget-view+json": {
       "model_id": "00860b8f513d4a13a896860e48e1a444",
       "version_major": 2,
       "version_minor": 0
      },
      "text/plain": [
       "danbooru_8298356.jpg:   0%|          | 0.00/81.0k [00:00<?, ?B/s]"
      ]
     },
     "metadata": {},
     "output_type": "display_data"
    },
    {
     "data": {
      "application/vnd.jupyter.widget-view+json": {
       "model_id": "e4788bdd0b1d456c8b4c52027e8b84f2",
       "version_major": 2,
       "version_minor": 0
      },
      "text/plain": [
       "danbooru_8297659.jpg:   0%|          | 0.00/69.5k [00:00<?, ?B/s]"
      ]
     },
     "metadata": {},
     "output_type": "display_data"
    },
    {
     "data": {
      "application/vnd.jupyter.widget-view+json": {
       "model_id": "6ca50c8ce97c4490acb2da9f05b92f4b",
       "version_major": 2,
       "version_minor": 0
      },
      "text/plain": [
       "danbooru_8295135.jpg:   0%|          | 0.00/121k [00:00<?, ?B/s]"
      ]
     },
     "metadata": {},
     "output_type": "display_data"
    },
    {
     "data": {
      "application/vnd.jupyter.widget-view+json": {
       "model_id": "47805223f2bf4bd29391c264aebace74",
       "version_major": 2,
       "version_minor": 0
      },
      "text/plain": [
       "danbooru_8295041.jpg:   0%|          | 0.00/120k [00:00<?, ?B/s]"
      ]
     },
     "metadata": {},
     "output_type": "display_data"
    },
    {
     "data": {
      "application/vnd.jupyter.widget-view+json": {
       "model_id": "c2ad214c250b4b03b97119f58c013f97",
       "version_major": 2,
       "version_minor": 0
      },
      "text/plain": [
       "danbooru_8290663.jpg:   0%|          | 0.00/155k [00:00<?, ?B/s]"
      ]
     },
     "metadata": {},
     "output_type": "display_data"
    },
    {
     "data": {
      "application/vnd.jupyter.widget-view+json": {
       "model_id": "92804f74cbc64172a1d8509eed77a84b",
       "version_major": 2,
       "version_minor": 0
      },
      "text/plain": [
       "danbooru_8282778.jpg:   0%|          | 0.00/169k [00:00<?, ?B/s]"
      ]
     },
     "metadata": {},
     "output_type": "display_data"
    },
    {
     "data": {
      "application/vnd.jupyter.widget-view+json": {
       "model_id": "e77d92ac84c64962bcbf62e0822ce290",
       "version_major": 2,
       "version_minor": 0
      },
      "text/plain": [
       "danbooru_8282734.jpg:   0%|          | 0.00/120k [00:00<?, ?B/s]"
      ]
     },
     "metadata": {},
     "output_type": "display_data"
    },
    {
     "data": {
      "application/vnd.jupyter.widget-view+json": {
       "model_id": "d99259eba78547b3bc62342703c4fd33",
       "version_major": 2,
       "version_minor": 0
      },
      "text/plain": [
       "danbooru_8282362.jpg:   0%|          | 0.00/142k [00:00<?, ?B/s]"
      ]
     },
     "metadata": {},
     "output_type": "display_data"
    },
    {
     "data": {
      "application/vnd.jupyter.widget-view+json": {
       "model_id": "4397ce0f5b864201a7e63d8a010abbca",
       "version_major": 2,
       "version_minor": 0
      },
      "text/plain": [
       "danbooru_8281856.jpg:   0%|          | 0.00/198k [00:00<?, ?B/s]"
      ]
     },
     "metadata": {},
     "output_type": "display_data"
    },
    {
     "data": {
      "application/vnd.jupyter.widget-view+json": {
       "model_id": "7bc841b1fd2f4bc2ab1f6cc918f161ba",
       "version_major": 2,
       "version_minor": 0
      },
      "text/plain": [
       "danbooru_8280599.jpg:   0%|          | 0.00/170k [00:00<?, ?B/s]"
      ]
     },
     "metadata": {},
     "output_type": "display_data"
    },
    {
     "data": {
      "application/vnd.jupyter.widget-view+json": {
       "model_id": "af4f62e13c8547418e09a3d4ddf03841",
       "version_major": 2,
       "version_minor": 0
      },
      "text/plain": [
       "danbooru_8280305.jpg:   0%|          | 0.00/156k [00:00<?, ?B/s]"
      ]
     },
     "metadata": {},
     "output_type": "display_data"
    },
    {
     "data": {
      "application/vnd.jupyter.widget-view+json": {
       "model_id": "ffa69271bb39484fb8004a2d33f223b6",
       "version_major": 2,
       "version_minor": 0
      },
      "text/plain": [
       "danbooru_8280293.jpg:   0%|          | 0.00/156k [00:00<?, ?B/s]"
      ]
     },
     "metadata": {},
     "output_type": "display_data"
    }
   ],
   "source": [
    "import pkg_resources\n",
    "import subprocess\n",
    "from IPython.display import clear_output\n",
    "import os\n",
    "import onnxruntime as ort\n",
    "\n",
    "# Verificar se TensorRT está disponível\n",
    "if 'TensorrtExecutionProvider' in ort.get_available_providers():\n",
    "    # Configurar TensorRT\n",
    "    os.environ['ORT_TENSORRT_FP16_ENABLE'] = '1'  # Usar precisão FP16 para maior velocidade\n",
    "    \n",
    "    # Definir ordem dos provedores (TensorRT primeiro)\n",
    "    providers = [\n",
    "        'TensorrtExecutionProvider',\n",
    "        'CUDAExecutionProvider', \n",
    "        'CPUExecutionProvider'\n",
    "    ]\n",
    "    \n",
    "    os.environ['ORT_PROVIDERS'] = ','.join(providers)\n",
    "    print(\"TensorRT configurado com sucesso!\")\n",
    "else:\n",
    "    print(\"TensorRT não disponível, usando CUDA padrão.\")\n",
    "\n",
    "# Verificar instalação do waifuc\n",
    "try:\n",
    "    pkg_resources.get_distribution('waifuc')\n",
    "    print(\"waifuc já está instalado, reinstalando...\")\n",
    "except pkg_resources.DistributionNotFound:\n",
    "    print(\"Instalando waifuc...\")\n",
    "\n",
    "# subprocess.run([\"pip\", \"uninstall\", \"-y\", \"waifuc\"], check=True)\n",
    "# subprocess.run([\"pip\", \"install\", \"onnxruntime-gpu\"], check=True)\n",
    "# subprocess.run([\"pip\", \"install\", \"git+https://github.com/deepghs/waifuc.git@main#egg=waifuc[gpu]\"], check=True)\n",
    "# subprocess.run([\"pip\", \"install\", \"--upgrade\", \"--force-reinstall\", \"huggingface_hub\"], check=True)\n",
    "# !apt-get update\n",
    "# !apt-get install -y cuda-cudart-12-* cuda-libraries-12-* cuda-nvtx-12-* cuda-cuobjdump-12-* cuda-nvprune-12-* cuda-compiler-12-* cuda-command-line-tools-12-*\n",
    "\n",
    "    \n",
    "#clear_output(wait=True)\n",
    "print(\"waifuc reinstalado com sucesso\")\n",
    "\n",
    "import re\n",
    "from waifuc.action import NoMonochromeAction, FilterSimilarAction, TaggingAction, PersonSplitAction, FaceCountAction, FirstNSelectAction, CCIPAction, ModeConvertAction, ClassFilterAction\n",
    "from waifuc.export import TextualInversionExporter\n",
    "from waifuc.source import DanbooruSource\n",
    "os.environ['ONNX_MODE'] = 'gpu'\n",
    "\n",
    "if __name__ == '__main__':\n",
    "    s = DanbooruSource(['fugue_(honkai:_star_rail)', 'solo'])\n",
    "\n",
    "    character_name = s.tags[0]\n",
    "    first_name = re.search(r\"(.+?)(?=\\()\", character_name).group(1)\n",
    "    first_name = first_name.rstrip(\"_\")\n",
    "    output_path = os.path.join('/workspace/datasets', first_name)\n",
    "\n",
    "    s.attach(\n",
    "        ModeConvertAction('RGB', 'white'),\n",
    "        NoMonochromeAction(),\n",
    "        ClassFilterAction(['illustration', 'bangumi']),\n",
    "        FilterSimilarAction('all'),\n",
    "        FaceCountAction(1),\n",
    "        PersonSplitAction(),\n",
    "        FaceCountAction(1),\n",
    "        CCIPAction(),\n",
    "        TaggingAction(force=True),\n",
    "        FilterSimilarAction('all'),\n",
    "        FirstNSelectAction(400),\n",
    "    ).export(\n",
    "        TextualInversionExporter(output_path)\n",
    "    )"
   ]
  },
  {
   "cell_type": "code",
   "execution_count": 1,
   "id": "bb7154fc-2e81-400d-80d4-92c4433584f6",
   "metadata": {},
   "outputs": [
    {
     "name": "stdout",
     "output_type": "stream",
     "text": [
      "\tlinux-vdso.so.1 (0x00007ffcd76ba000)\n",
      "\tlibcublasLt.so.12 => /usr/local/cuda/targets/x86_64-linux/lib/libcublasLt.so.12 (0x00007f03a9600000)\n",
      "\tlibcublas.so.12 => /usr/local/cuda/targets/x86_64-linux/lib/libcublas.so.12 (0x00007f03a2c00000)\n",
      "\tlibcurand.so.10 => /usr/local/cuda/targets/x86_64-linux/lib/libcurand.so.10 (0x00007f039c600000)\n",
      "\tlibcufft.so.11 => /usr/local/cuda/targets/x86_64-linux/lib/libcufft.so.11 (0x00007f038b600000)\n",
      "\tlibcudart.so.12 => /usr/local/cuda/targets/x86_64-linux/lib/libcudart.so.12 (0x00007f038b200000)\n",
      "\tlibcudnn.so.9 => /lib/x86_64-linux-gnu/libcudnn.so.9 (0x00007f038ae00000)\n",
      "\tlibdl.so.2 => /lib/x86_64-linux-gnu/libdl.so.2 (0x00007f03caeb9000)\n",
      "\tlibrt.so.1 => /lib/x86_64-linux-gnu/librt.so.1 (0x00007f03caeb4000)\n",
      "\tlibnvrtc.so.12 => /usr/local/cuda/targets/x86_64-linux/lib/libnvrtc.so.12 (0x00007f0387000000)\n",
      "\tlibpthread.so.0 => /lib/x86_64-linux-gnu/libpthread.so.0 (0x00007f03caeaf000)\n",
      "\tlibstdc++.so.6 => /lib/x86_64-linux-gnu/libstdc++.so.6 (0x00007f0386dd4000)\n",
      "\tlibm.so.6 => /lib/x86_64-linux-gnu/libm.so.6 (0x00007f03a2b19000)\n",
      "\tlibgcc_s.so.1 => /lib/x86_64-linux-gnu/libgcc_s.so.1 (0x00007f03cae8d000)\n",
      "\tlibc.so.6 => /lib/x86_64-linux-gnu/libc.so.6 (0x00007f0386bab000)\n",
      "\t/lib64/ld-linux-x86-64.so.2 (0x00007f03e328f000)\n"
     ]
    }
   ],
   "source": [
    "!LD_LIBRARY_PATH=/usr/local/cuda/targets/x86_64-linux/lib:/usr/local/cuda/lib64:$LD_LIBRARY_PATH ldd $(pip show onnxruntime-gpu | grep Location | awk '{print $2}')/onnxruntime/capi/libonnxruntime_providers_cuda.so"
   ]
  },
  {
   "cell_type": "code",
   "execution_count": 2,
   "id": "fdf8ab99-2311-4ac0-a808-294d8a9e3a07",
   "metadata": {},
   "outputs": [
    {
     "name": "stdout",
     "output_type": "stream",
     "text": [
      "Provedores disponíveis: ['TensorrtExecutionProvider', 'CUDAExecutionProvider', 'CPUExecutionProvider']\n",
      "Provedor em uso: GPU\n"
     ]
    }
   ],
   "source": [
    "import onnxruntime as ort\n",
    "print(f\"Provedores disponíveis: {ort.get_available_providers()}\")\n",
    "print(f\"Provedor em uso: {ort.get_device()}\")"
   ]
  },
  {
   "cell_type": "code",
   "execution_count": null,
   "id": "e7f26b2e-f801-4c7c-8b34-75f652746dab",
   "metadata": {},
   "outputs": [],
   "source": []
  }
 ],
 "metadata": {
  "kernelspec": {
   "display_name": "Python (env novo)",
   "language": "python",
   "name": "env_jupyter_novo"
  },
  "language_info": {
   "codemirror_mode": {
    "name": "ipython",
    "version": 3
   },
   "file_extension": ".py",
   "mimetype": "text/x-python",
   "name": "python",
   "nbconvert_exporter": "python",
   "pygments_lexer": "ipython3",
   "version": "3.10.12"
  }
 },
 "nbformat": 4,
 "nbformat_minor": 5
}
